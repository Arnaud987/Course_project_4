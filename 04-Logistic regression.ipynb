{
 "cells": [
  {
   "cell_type": "code",
   "execution_count": 1,
   "id": "f87b3370-8222-4854-a92b-facc457b8f31",
   "metadata": {
    "tags": []
   },
   "outputs": [],
   "source": [
    "import numpy as np\n",
    "import pandas as pd\n",
    "import matplotlib.pyplot as plt\n",
    "from PIL import Image\n",
    "import matplotlib.image as mpimg\n",
    "import tensorflow as tf"
   ]
  },
  {
   "cell_type": "code",
   "execution_count": 2,
   "id": "20d24467-249d-4e5c-9cb4-a5c908043cae",
   "metadata": {},
   "outputs": [],
   "source": [
    "with np.load('train_data_np.npz', allow_pickle=False) as npz_file_tr:\n",
    "    # Load the arrays\n",
    "    X_tr = npz_file_tr['features']\n",
    "    y_tr = npz_file_tr['targets']"
   ]
  },
  {
   "cell_type": "code",
   "execution_count": 3,
   "id": "54d2330c-ff96-46b6-a409-b6ddcf68e5a7",
   "metadata": {},
   "outputs": [],
   "source": [
    "with np.load('test_data_np.npz', allow_pickle=False) as npz_file_te:\n",
    "    # Load the arrays\n",
    "    X_te = npz_file_te['features']\n",
    "    y_te = npz_file_te['targets']"
   ]
  },
  {
   "cell_type": "code",
   "execution_count": 4,
   "id": "2da58897-09a0-4e7e-8568-d65df3d39978",
   "metadata": {},
   "outputs": [],
   "source": [
    "with np.load('val_data_np.npz', allow_pickle=False) as npz_file_val:\n",
    "    # Load the arrays\n",
    "    X_val = npz_file_val['features']\n",
    "    y_val = npz_file_val['targets']"
   ]
  },
  {
   "cell_type": "code",
   "execution_count": 5,
   "id": "fec49836-c73a-4c62-8843-1a92b4178431",
   "metadata": {
    "tags": []
   },
   "outputs": [],
   "source": [
    "# Folder list\n",
    "folder_list = [\"bike\", \"car\", \"motorcycle\", \"other\", \"truck\", \"van\"]"
   ]
  },
  {
   "cell_type": "markdown",
   "id": "0012fb2f-bd94-43cc-97ed-3187da78e4a3",
   "metadata": {},
   "source": [
    "# Logistic regression"
   ]
  },
  {
   "cell_type": "markdown",
   "id": "f05ad50d-09d2-4d37-8da2-4002bddfd3cb",
   "metadata": {},
   "source": [
    "## rain and evaluate a logistic regression model (without any regularization penalty=\"none\" and without any hyperparameters tuning).\n",
    "Data must be standardized for logistic regressions and clustering, this why we are standardizing it"
   ]
  },
  {
   "cell_type": "code",
   "execution_count": 29,
   "id": "d773767d-be2b-404e-bdff-783224e3bc47",
   "metadata": {},
   "outputs": [
    {
     "data": {
      "text/plain": [
       "Pipeline(steps=[('standardscaler', StandardScaler()),\n",
       "                ('logisticregression', LogisticRegression())])"
      ]
     },
     "execution_count": 29,
     "metadata": {},
     "output_type": "execute_result"
    }
   ],
   "source": [
    "from sklearn.linear_model import LogisticRegression\n",
    "from sklearn.preprocessing import StandardScaler\n",
    "from sklearn.pipeline import make_pipeline\n",
    "\n",
    "# Create the estimator\n",
    "logreg = make_pipeline(StandardScaler(), LogisticRegression())\n",
    "\n",
    "# Fit it to train data\n",
    "logreg.fit(X_tr, y_tr)"
   ]
  },
  {
   "cell_type": "code",
   "execution_count": 30,
   "id": "b3e7bd2d-fc62-4b45-ba1e-28c7755745c2",
   "metadata": {},
   "outputs": [
    {
     "name": "stdout",
     "output_type": "stream",
     "text": [
      "Accuracy: 0.942\n"
     ]
    }
   ],
   "source": [
    "# Accuracy on test set\n",
    "accuracy = logreg.score(X_te, y_te)\n",
    "print(\"Accuracy: {:.3f}\".format(accuracy))"
   ]
  },
  {
   "cell_type": "code",
   "execution_count": 31,
   "id": "ea34f2c5-a508-466c-926d-4a7e96341c30",
   "metadata": {},
   "outputs": [],
   "source": [
    "# Access the fitted Logistic regression estimator\n",
    "logreg_1 = logreg.named_steps[\"logisticregression\"]"
   ]
  },
  {
   "cell_type": "code",
   "execution_count": 32,
   "id": "3c7e4861-c545-4c6f-8966-eec32c411ef3",
   "metadata": {},
   "outputs": [
    {
     "data": {
      "text/plain": [
       "(6, 1280)"
      ]
     },
     "execution_count": 32,
     "metadata": {},
     "output_type": "execute_result"
    }
   ],
   "source": [
    "log_coef = logreg_1.coef_\n",
    "log_coef.shape"
   ]
  },
  {
   "cell_type": "markdown",
   "id": "35197b24-117b-44d7-bf0f-738b2c49b3b7",
   "metadata": {},
   "source": [
    "*Comment:* The accuracy of the model based on train set is excellent. Lets see it is generalize well. Each row of log_coef correspond to a category while each column corresponds to a feature in the training data."
   ]
  },
  {
   "cell_type": "code",
   "execution_count": 26,
   "id": "95e2b928-74b3-4661-b2d5-c0a32c29751d",
   "metadata": {},
   "outputs": [
    {
     "name": "stdout",
     "output_type": "stream",
     "text": [
      "(1280,)\n"
     ]
    }
   ],
   "source": [
    "log_coef_cat_0 = log_coef[0]  # Coefficients for class 0\n",
    "print(log_coef_cat_0.shape)  "
   ]
  },
  {
   "cell_type": "code",
   "execution_count": 27,
   "id": "25854edb-471a-4dd7-9fdb-9fd940a02af0",
   "metadata": {},
   "outputs": [
    {
     "name": "stdout",
     "output_type": "stream",
     "text": [
      "[ 0.05734998  0.05184404  0.04931765 ... -0.03480562 -0.03519144\n",
      " -0.04030885]\n",
      "[ 801  222 1247 ... 1122  699  311]\n"
     ]
    }
   ],
   "source": [
    "# Sort the coefficients in descending order\n",
    "sorted_indices = np.argsort(log_coef_cat_0)[::-1]  # Indices of sorted values in descending order\n",
    "sorted_values = log_coef_cat_0[sorted_indices]  # Sorted coefficients\n",
    "\n",
    "print(sorted_values)  # Print sorted coefficients\n",
    "print(sorted_indices)  # Print indices corresponding to the sorted coefficients"
   ]
  },
  {
   "cell_type": "code",
   "execution_count": 28,
   "id": "6e8ce718-0fa8-4c8c-97cb-1b21f88bb5f4",
   "metadata": {},
   "outputs": [
    {
     "data": {
      "text/html": [
       "<div>\n",
       "<style scoped>\n",
       "    .dataframe tbody tr th:only-of-type {\n",
       "        vertical-align: middle;\n",
       "    }\n",
       "\n",
       "    .dataframe tbody tr th {\n",
       "        vertical-align: top;\n",
       "    }\n",
       "\n",
       "    .dataframe thead th {\n",
       "        text-align: right;\n",
       "    }\n",
       "</style>\n",
       "<table border=\"1\" class=\"dataframe\">\n",
       "  <thead>\n",
       "    <tr style=\"text-align: right;\">\n",
       "      <th></th>\n",
       "      <th>Index</th>\n",
       "      <th>Values</th>\n",
       "    </tr>\n",
       "  </thead>\n",
       "  <tbody>\n",
       "    <tr>\n",
       "      <th>0</th>\n",
       "      <td>801</td>\n",
       "      <td>0.057350</td>\n",
       "    </tr>\n",
       "    <tr>\n",
       "      <th>1</th>\n",
       "      <td>222</td>\n",
       "      <td>0.051844</td>\n",
       "    </tr>\n",
       "    <tr>\n",
       "      <th>2</th>\n",
       "      <td>1247</td>\n",
       "      <td>0.049318</td>\n",
       "    </tr>\n",
       "    <tr>\n",
       "      <th>3</th>\n",
       "      <td>1128</td>\n",
       "      <td>0.049109</td>\n",
       "    </tr>\n",
       "    <tr>\n",
       "      <th>4</th>\n",
       "      <td>1220</td>\n",
       "      <td>0.048996</td>\n",
       "    </tr>\n",
       "    <tr>\n",
       "      <th>5</th>\n",
       "      <td>1233</td>\n",
       "      <td>0.047821</td>\n",
       "    </tr>\n",
       "    <tr>\n",
       "      <th>6</th>\n",
       "      <td>999</td>\n",
       "      <td>0.047373</td>\n",
       "    </tr>\n",
       "    <tr>\n",
       "      <th>7</th>\n",
       "      <td>1199</td>\n",
       "      <td>0.047301</td>\n",
       "    </tr>\n",
       "    <tr>\n",
       "      <th>8</th>\n",
       "      <td>530</td>\n",
       "      <td>0.047251</td>\n",
       "    </tr>\n",
       "    <tr>\n",
       "      <th>9</th>\n",
       "      <td>183</td>\n",
       "      <td>0.046767</td>\n",
       "    </tr>\n",
       "  </tbody>\n",
       "</table>\n",
       "</div>"
      ],
      "text/plain": [
       "   Index    Values\n",
       "0    801  0.057350\n",
       "1    222  0.051844\n",
       "2   1247  0.049318\n",
       "3   1128  0.049109\n",
       "4   1220  0.048996\n",
       "5   1233  0.047821\n",
       "6    999  0.047373\n",
       "7   1199  0.047301\n",
       "8    530  0.047251\n",
       "9    183  0.046767"
      ]
     },
     "execution_count": 28,
     "metadata": {},
     "output_type": "execute_result"
    }
   ],
   "source": [
    "# Create a DataFrame\n",
    "sorted_coeff = pd.DataFrame({\n",
    "    \"Index\": sorted_indices,\n",
    "    \"Values\": sorted_values\n",
    "})\n",
    "sorted_coeff.head(10)"
   ]
  },
  {
   "cell_type": "code",
   "execution_count": 13,
   "id": "7afb9964-4efc-479b-a5db-85f16d991749",
   "metadata": {},
   "outputs": [
    {
     "data": {
      "image/png": "[encoded data removed]",
      "text/plain": [
       "<Figure size 1000x400 with 2 Axes>"
      ]
     },
     "metadata": {},
     "output_type": "display_data"
    }
   ],
   "source": [
    "import seaborn as sns\n",
    "\n",
    "plt.figure(figsize=(10, 4))\n",
    "plt.title(\"Heatmap of the coefficients for each category\")\n",
    "sns.heatmap(log_coef, yticklabels=folder_list)\n",
    "plt.show()"
   ]
  },
  {
   "cell_type": "markdown",
   "id": "7caf8ee0-f628-460c-8505-f4546f2314c5",
   "metadata": {},
   "source": [
    "*Comments:* In the first task, we mentionned that features like 165 and 1022 should be investigated further to understand what these features represent and how they contribute to categorization. \n",
    "- We can mentionned that Van and truck share the same feature 1022. \n",
    "- In addition, Truck, car and other share the same high feature 165."
   ]
  },
  {
   "cell_type": "markdown",
   "id": "50b9e1db-8ae1-40a5-ad3f-545c570fc3da",
   "metadata": {},
   "source": [
    "## Set an “l2” regularization and tune the regularization strength parameter of the model with cross-validated grid-search.\n",
    "\n",
    "We will use the softmax regression model, also known as multinomial logistic regression, which is the generalization of the logistic regression model to multiple classes. We can control the weight of the penalisation term L2 with the C parameter\n",
    "Among the solvers supporting the l2 regularization parameter, we can see \"lbfgs\", \"saga\", \"newton-cg\". Liblinear is not supporting l2 regularization\n",
    "\n",
    "To tune the hyperparameter with cross validated grid search, we are splitting the train set into a smaller train and validation ones (in our case, that will be 10 cross folds). The idea is to use the small train set to fit the different estimators with varying C values, use the validation one to compare them and finally, pick the best performing value C*. Finally we refit the tuned estimator to the entire train set and compute a final classification report with the test set."
   ]
  },
  {
   "cell_type": "code",
   "execution_count": 14,
   "id": "aae7a17f-36b4-41b0-94de-509241580dd8",
   "metadata": {},
   "outputs": [],
   "source": [
    "from sklearn.model_selection import GridSearchCV\n",
    "from sklearn.pipeline import Pipeline\n",
    "from sklearn.model_selection import ShuffleSplit\n",
    "from sklearn.model_selection import cross_validate"
   ]
  },
  {
   "cell_type": "code",
   "execution_count": 68,
   "id": "cd03af72-604d-42a7-aae0-6516821935d6",
   "metadata": {},
   "outputs": [],
   "source": [
    "# I Create the pipeline using softmax regression (\"multinomial\") and lbfgs solver.\n",
    "logreg_pipe = Pipeline(\n",
    "    [\n",
    "        (\"scaler\", StandardScaler()),\n",
    "        (\"logreg_1\", LogisticRegression(multi_class=\"multinomial\", solver=\"lbfgs\")),\n",
    "    ]\n",
    ")"
   ]
  },
  {
   "cell_type": "code",
   "execution_count": 69,
   "id": "b520705a-37e6-4672-9c35-b727b2ab00a0",
   "metadata": {},
   "outputs": [],
   "source": [
    "# Create cross-validation object with 10 cross folds and various regularization strenght\n",
    "grid = {\"logreg_1__C\": np.logspace(-10, 6, num=10)} \n",
    "grid_cv = GridSearchCV(logreg_pipe, grid, cv=10, return_train_score=True, n_jobs=-1)"
   ]
  },
  {
   "cell_type": "code",
   "execution_count": 70,
   "id": "bc945e4b-a169-4b8e-ba98-1db53bf3fe99",
   "metadata": {},
   "outputs": [
    {
     "data": {
      "text/plain": [
       "GridSearchCV(cv=10,\n",
       "             estimator=Pipeline(steps=[('scaler', StandardScaler()),\n",
       "                                       ('logreg_1',\n",
       "                                        LogisticRegression(multi_class='multinomial'))]),\n",
       "             n_jobs=-1,\n",
       "             param_grid={'logreg_1__C': array([1.00000000e-10, 5.99484250e-09, 3.59381366e-07, 2.15443469e-05,\n",
       "       1.29154967e-03, 7.74263683e-02, 4.64158883e+00, 2.78255940e+02,\n",
       "       1.66810054e+04, 1.00000000e+06])},\n",
       "             return_train_score=True)"
      ]
     },
     "execution_count": 70,
     "metadata": {},
     "output_type": "execute_result"
    }
   ],
   "source": [
    "# Fit estimator with training values\n",
    "grid_cv.fit(X_tr, y_tr)\n"
   ]
  },
  {
   "cell_type": "code",
   "execution_count": 72,
   "id": "7fe31b15-c9f3-4b2d-8642-9624b1ea0b83",
   "metadata": {},
   "outputs": [
    {
     "data": {
      "text/plain": [
       "Pipeline(steps=[('scaler', StandardScaler()),\n",
       "                ('logreg_1',\n",
       "                 LogisticRegression(C=4.641588833612772,\n",
       "                                    multi_class='multinomial'))])"
      ]
     },
     "execution_count": 72,
     "metadata": {},
     "output_type": "execute_result"
    }
   ],
   "source": [
    "# Display the best regularization strenght\n",
    "grid_cv.best_estimator_"
   ]
  },
  {
   "cell_type": "markdown",
   "id": "9a004255-b85d-417d-9e4e-cb259abf6fee",
   "metadata": {},
   "source": [
    "*Comments:* The best regularization l2 parameter estimated after 10 cross folds and various c values is 4,64."
   ]
  },
  {
   "cell_type": "markdown",
   "id": "fb40a01a-3d80-4637-83b4-51b3629201b3",
   "metadata": {},
   "source": [
    "## Report the result of cross-validated grid-search as a dataframe and interpret the result. In particular, briefly explain what are the mean_train_score, mean_test_score, std_train_score and std_test_score:\n",
    "- How are they obtained?\n",
    "- What do they measure?\n",
    "- Do the training and validation curves indicate overfitting?"
   ]
  },
  {
   "cell_type": "code",
   "execution_count": 73,
   "id": "a152f75b-7e23-49b3-8a72-a6509a26089d",
   "metadata": {},
   "outputs": [
    {
     "data": {
      "text/html": [
       "<div>\n",
       "<style scoped>\n",
       "    .dataframe tbody tr th:only-of-type {\n",
       "        vertical-align: middle;\n",
       "    }\n",
       "\n",
       "    .dataframe tbody tr th {\n",
       "        vertical-align: top;\n",
       "    }\n",
       "\n",
       "    .dataframe thead th {\n",
       "        text-align: right;\n",
       "    }\n",
       "</style>\n",
       "<table border=\"1\" class=\"dataframe\">\n",
       "  <thead>\n",
       "    <tr style=\"text-align: right;\">\n",
       "      <th></th>\n",
       "      <th>mean_test_score</th>\n",
       "      <th>std_test_score</th>\n",
       "      <th>mean_train_score</th>\n",
       "      <th>std_train_score</th>\n",
       "      <th>param_logreg_1__C</th>\n",
       "    </tr>\n",
       "  </thead>\n",
       "  <tbody>\n",
       "    <tr>\n",
       "      <th>6</th>\n",
       "      <td>0.917857</td>\n",
       "      <td>0.027894</td>\n",
       "      <td>1.000000</td>\n",
       "      <td>0.000000</td>\n",
       "      <td>4.641589</td>\n",
       "    </tr>\n",
       "    <tr>\n",
       "      <th>5</th>\n",
       "      <td>0.914286</td>\n",
       "      <td>0.032733</td>\n",
       "      <td>1.000000</td>\n",
       "      <td>0.000000</td>\n",
       "      <td>0.077426</td>\n",
       "    </tr>\n",
       "    <tr>\n",
       "      <th>7</th>\n",
       "      <td>0.914286</td>\n",
       "      <td>0.032733</td>\n",
       "      <td>1.000000</td>\n",
       "      <td>0.000000</td>\n",
       "      <td>278.25594</td>\n",
       "    </tr>\n",
       "    <tr>\n",
       "      <th>8</th>\n",
       "      <td>0.910714</td>\n",
       "      <td>0.036596</td>\n",
       "      <td>1.000000</td>\n",
       "      <td>0.000000</td>\n",
       "      <td>16681.005372</td>\n",
       "    </tr>\n",
       "    <tr>\n",
       "      <th>9</th>\n",
       "      <td>0.910714</td>\n",
       "      <td>0.036596</td>\n",
       "      <td>1.000000</td>\n",
       "      <td>0.000000</td>\n",
       "      <td>1000000.0</td>\n",
       "    </tr>\n",
       "    <tr>\n",
       "      <th>4</th>\n",
       "      <td>0.903571</td>\n",
       "      <td>0.035892</td>\n",
       "      <td>0.990873</td>\n",
       "      <td>0.002541</td>\n",
       "      <td>0.001292</td>\n",
       "    </tr>\n",
       "    <tr>\n",
       "      <th>3</th>\n",
       "      <td>0.542857</td>\n",
       "      <td>0.044607</td>\n",
       "      <td>0.569841</td>\n",
       "      <td>0.014869</td>\n",
       "      <td>0.000022</td>\n",
       "    </tr>\n",
       "    <tr>\n",
       "      <th>0</th>\n",
       "      <td>0.235714</td>\n",
       "      <td>0.017496</td>\n",
       "      <td>0.235714</td>\n",
       "      <td>0.001944</td>\n",
       "      <td>0.0</td>\n",
       "    </tr>\n",
       "    <tr>\n",
       "      <th>1</th>\n",
       "      <td>0.235714</td>\n",
       "      <td>0.017496</td>\n",
       "      <td>0.235714</td>\n",
       "      <td>0.001944</td>\n",
       "      <td>0.0</td>\n",
       "    </tr>\n",
       "    <tr>\n",
       "      <th>2</th>\n",
       "      <td>0.235714</td>\n",
       "      <td>0.017496</td>\n",
       "      <td>0.235714</td>\n",
       "      <td>0.001944</td>\n",
       "      <td>0.0</td>\n",
       "    </tr>\n",
       "  </tbody>\n",
       "</table>\n",
       "</div>"
      ],
      "text/plain": [
       "   mean_test_score  std_test_score  mean_train_score  std_train_score  \\\n",
       "6         0.917857        0.027894          1.000000         0.000000   \n",
       "5         0.914286        0.032733          1.000000         0.000000   \n",
       "7         0.914286        0.032733          1.000000         0.000000   \n",
       "8         0.910714        0.036596          1.000000         0.000000   \n",
       "9         0.910714        0.036596          1.000000         0.000000   \n",
       "4         0.903571        0.035892          0.990873         0.002541   \n",
       "3         0.542857        0.044607          0.569841         0.014869   \n",
       "0         0.235714        0.017496          0.235714         0.001944   \n",
       "1         0.235714        0.017496          0.235714         0.001944   \n",
       "2         0.235714        0.017496          0.235714         0.001944   \n",
       "\n",
       "  param_logreg_1__C  \n",
       "6          4.641589  \n",
       "5          0.077426  \n",
       "7         278.25594  \n",
       "8      16681.005372  \n",
       "9         1000000.0  \n",
       "4          0.001292  \n",
       "3          0.000022  \n",
       "0               0.0  \n",
       "1               0.0  \n",
       "2               0.0  "
      ]
     },
     "execution_count": 73,
     "metadata": {},
     "output_type": "execute_result"
    }
   ],
   "source": [
    "\n",
    "# Collect results in a DataFrame\n",
    "cv_results = pd.DataFrame(grid_cv.cv_results_)\n",
    "\n",
    "# Print a few interesting columns\n",
    "cols = [\n",
    "    \"mean_test_score\",\n",
    "    \"std_test_score\",\n",
    "    \"mean_train_score\",\n",
    "    \"std_train_score\",\n",
    "    \"param_logreg_1__C\",\n",
    "]\n",
    "cv_results[cols].sort_values(\"mean_test_score\", ascending=False)"
   ]
  },
  {
   "cell_type": "markdown",
   "id": "076660b8-7306-40de-ad8a-3a584c619ee3",
   "metadata": {},
   "source": [
    "*Comments* Each row of the dataframe corresponds to the evaluation of a 10 folds cross-validation, where the training data is splited into 9 folds for training and 1 fold for validation. There are 10 models, trained and validated on different splits of the data. The aim is to produce a model that generalizes well.\n",
    "\n",
    "- The mean training score represents the accuracy of the logistic regression model on the training data, while the test score reflects the accuracy of the model on the validation data. \n",
    "\n",
    "- The standard deviation indicates the variability in these accuracy scores. Our goal is to achieve the highest test/validation accuracy with the lowest standard deviation.\n",
    "\n",
    "- Based on this, the 6th model on the first row shows the best result, with an L2 hyperparameter value of 4.64.\n"
   ]
  },
  {
   "cell_type": "code",
   "execution_count": 74,
   "id": "d268f301-47b7-4eec-816a-8b29e702d3b1",
   "metadata": {},
   "outputs": [
    {
     "data": {
      "image/png": "[encoded data removed]",
      "text/plain": [
       "<Figure size 640x480 with 1 Axes>"
      ]
     },
     "metadata": {},
     "output_type": "display_data"
    }
   ],
   "source": [
    "%matplotlib inline\n",
    "import matplotlib.pyplot as plt\n",
    "\n",
    "# Plot training/validation accuracy curves\n",
    "plt.semilogx(cv_results[\"param_logreg_1__C\"], cv_results[\"mean_train_score\"], label='training accuracy')\n",
    "plt.semilogx(cv_results[\"param_logreg_1__C\"], cv_results[\"mean_test_score\"],  label='validation accuracy')\n",
    "plt.xlabel('Regularization strength (C)')\n",
    "plt.ylabel('Accuracy')\n",
    "plt.title(\"Evolution of training/validation accuracy with $C$\")\n",
    "plt.legend()\n",
    "plt.show()"
   ]
  },
  {
   "cell_type": "markdown",
   "id": "cd69ff45-bdc7-4276-aa6b-d86266eddabc",
   "metadata": {},
   "source": [
    "*Comments:* The validation and training curves do not indicate overfitting, as there is an 8.2-point difference between the accuracy of the model on the training data and the validation data, which is acceptable. In addition, the model performs well on the validation data, achieving 92% accuracy with low variability in results, as evidenced by a standard deviation of 2.7 points. The model generalizes well to new data."
   ]
  },
  {
   "cell_type": "markdown",
   "id": "8f38be1f-c35b-4260-92dc-4eb55c2a02ef",
   "metadata": {},
   "source": [
    "## Making predictions and classification report"
   ]
  },
  {
   "cell_type": "code",
   "execution_count": null,
   "id": "d25ce341-77f6-4241-bd68-c2d1fe3646a9",
   "metadata": {},
   "outputs": [],
   "source": [
    "# We will make our predictions using the best estimator and the train/val sets"
   ]
  },
  {
   "cell_type": "code",
   "execution_count": 63,
   "id": "e1db0c01-977c-417e-9a03-ed247059fa7e",
   "metadata": {},
   "outputs": [
    {
     "data": {
      "text/plain": [
       "((419, 1280), (419,))"
      ]
     },
     "execution_count": 63,
     "metadata": {},
     "output_type": "execute_result"
    }
   ],
   "source": [
    "X_final = np.concatenate((X_tr, X_val.reshape(139, 1280)), axis=0) \n",
    "y_final = np.concatenate((y_tr, y_val), axis=0) \n",
    "X_final.shape, y_final.shape"
   ]
  },
  {
   "cell_type": "code",
   "execution_count": 67,
   "id": "aec3df60-89c2-45f9-9261-585e3413999a",
   "metadata": {},
   "outputs": [
    {
     "data": {
      "text/plain": [
       "LogisticRegression()"
      ]
     },
     "execution_count": 67,
     "metadata": {},
     "output_type": "execute_result"
    }
   ],
   "source": [
    "logreg_1"
   ]
  },
  {
   "cell_type": "code",
   "execution_count": 87,
   "id": "258f0820-b71a-4ecd-9811-836250599867",
   "metadata": {},
   "outputs": [],
   "source": [
    "# Building the estimator\n",
    "final_estimator = logreg_pipe.set_params(\n",
    "    logreg_1__C=4.641588833612772,\n",
    "    logreg_1__multi_class='multinomial',\n",
    "    logreg_1__solver=\"lbfgs\",\n",
    "    logreg_1__max_iter=500\n",
    ")"
   ]
  },
  {
   "cell_type": "code",
   "execution_count": 91,
   "id": "390b1eff-a86e-45dd-b729-fbc7aca7a33d",
   "metadata": {},
   "outputs": [],
   "source": [
    "# Compute predictions with the \"best_estimator_\" attribute\n",
    "final_estimator.fit(X_final, y_final)\n",
    "\n",
    "y_te_pred = final_estimator.predict(X_te)"
   ]
  },
  {
   "cell_type": "code",
   "execution_count": 92,
   "id": "a3182c02-1973-41dc-811e-4bd69674dc01",
   "metadata": {},
   "outputs": [
    {
     "name": "stdout",
     "output_type": "stream",
     "text": [
      "              precision    recall  f1-score   support\n",
      "\n",
      "        bike       1.00      1.00      1.00        12\n",
      "         car       1.00      0.91      0.95        11\n",
      "  motorcycle       1.00      1.00      1.00         9\n",
      "       other       0.89      1.00      0.94         8\n",
      "       truck       0.86      0.86      0.86         7\n",
      "         van       0.80      0.80      0.80         5\n",
      "\n",
      "    accuracy                           0.94        52\n",
      "   macro avg       0.92      0.93      0.93        52\n",
      "weighted avg       0.94      0.94      0.94        52\n",
      "\n"
     ]
    }
   ],
   "source": [
    "from sklearn.metrics import classification_report\n",
    "# Classification report\n",
    "print(classification_report(y_true=y_te, y_pred=y_te_pred))"
   ]
  },
  {
   "cell_type": "markdown",
   "id": "edda3e3e-8bee-41c3-a86d-1f66a38eaf74",
   "metadata": {},
   "source": [
    "*Comments:* the logistic regression model indicates the best precision and recall for bikes and motocycles. Contrary to the KNN model, this model provide a very good f1 score for the other category at 86% while the score reached for cars, trucks and van is similar with previous model. Overall the score is much better with 94% of accuracy. "
   ]
  },
  {
   "cell_type": "code",
   "execution_count": 93,
   "id": "061d97a5-131f-4353-98f6-8142d0ccdac9",
   "metadata": {},
   "outputs": [
    {
     "data": {
      "image/png": "[encoded data removed]",
      "text/plain": [
       "<Figure size 1200x400 with 4 Axes>"
      ]
     },
     "metadata": {},
     "output_type": "display_data"
    }
   ],
   "source": [
    "from sklearn.metrics import ConfusionMatrixDisplay\n",
    "\n",
    "# Create two subplots\n",
    "f, (ax1, ax2) = plt.subplots(1, 2, figsize=(12, 4))\n",
    "\n",
    "# Plots the standard confusion matrix\n",
    "ax1.set_title(\"Confusion Matrix (counts)\")\n",
    "ConfusionMatrixDisplay.from_predictions(y_true=y_te, y_pred=y_te_pred, ax=ax1)\n",
    "\n",
    "# Plots the normalized confusion matrix\n",
    "ax2.set_title(\"Confusion Matrix (ratios)\")\n",
    "ConfusionMatrixDisplay.from_predictions(y_true=y_te, y_pred=y_te_pred, normalize=\"true\", ax=ax2)\n",
    "\n",
    "plt.show()"
   ]
  },
  {
   "cell_type": "markdown",
   "id": "f4d701f4-5b95-440d-9e16-b08d9c6c289b",
   "metadata": {},
   "source": [
    "*Comments* The confusion matrix shows that bikes, cars, motorcycles and others are very well classified. The model made several errors to classify van which were classified as car and trucks. Given the small number of vans in the datasets, it represent 20% of accuracy each. These errors is due to the wide diversity of vans based on their functions (e.g., ambulances, leisure vehicles, plumber vans). Additionally, the \"other\" category includes a broad range of vehicles, from scooters and buses to toys and road construction machines, further complicating classification. "
   ]
  },
  {
   "cell_type": "code",
   "execution_count": 95,
   "id": "2cccf56f-c727-4bd1-9a1f-fb3bc3810dab",
   "metadata": {},
   "outputs": [
    {
     "data": {
      "text/plain": [
       "94.23076923076923"
      ]
     },
     "execution_count": 95,
     "metadata": {},
     "output_type": "execute_result"
    }
   ],
   "source": [
    "log_score = final_estimator.score(X_te, y_te)*100\n",
    "log_score"
   ]
  },
  {
   "cell_type": "code",
   "execution_count": 97,
   "id": "ee74d643-2a20-42d0-aa27-feb0d9b4b4d9",
   "metadata": {},
   "outputs": [],
   "source": [
    "#Save the score in the SQL Table \n",
    "import sqlite3\n",
    "\n",
    "log_data = {'model': ['Logistic regression'],\n",
    "        'test_accuracy': [log_score]}\n",
    "log_df = pd.DataFrame(log_data)\n",
    "\n",
    "# Save to SQLite\n",
    "conn = sqlite3.connect('results.db')\n",
    "log_df.to_sql('results_table', conn, if_exists='append', index=False)\n",
    "conn.close()"
   ]
  },
  {
   "cell_type": "code",
   "execution_count": null,
   "id": "cf46b61e-0db1-4715-ad7f-02f7b5948706",
   "metadata": {},
   "outputs": [],
   "source": []
  }
 ],
 "metadata": {
  "kernelspec": {
   "display_name": "Python [conda env:adsml] *",
   "language": "python",
   "name": "conda-env-adsml-py"
  },
  "language_info": {
   "codemirror_mode": {
    "name": "ipython",
    "version": 3
   },
   "file_extension": ".py",
   "mimetype": "text/x-python",
   "name": "python",
   "nbconvert_exporter": "python",
   "pygments_lexer": "ipython3",
   "version": "3.9.19"
  }
 },
 "nbformat": 4,
 "nbformat_minor": 5
}
