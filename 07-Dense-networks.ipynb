{
 "cells": [
  {
   "cell_type": "code",
   "execution_count": 1,
   "id": "0057cedf-ee16-49ea-837e-28d133e65418",
   "metadata": {},
   "outputs": [],
   "source": [
    "import tensorflow as tf\n",
    "from tensorflow.keras import Sequential\n",
    "from tensorflow.keras.layers import Dense\n",
    "import numpy as np\n",
    "import pandas as pd\n",
    "import tensorflow_hub as hub\n",
    "import matplotlib.pyplot as plt\n",
    "from PIL import Image\n",
    "import matplotlib.image as mpimg\n",
    "import missingno as msno\n",
    "import seaborn as sns\n",
    "import tensorflow as tf\n",
    "import os as os\n",
    "import h5py"
   ]
  },
  {
   "cell_type": "markdown",
   "id": "169e5e17-2c15-4043-b6e8-0c63a9c22678",
   "metadata": {},
   "source": [
    "**Comments:** In this unit, we will use Keras to manage images and create the three sets. We will load all images with this function. We use an image generator with augmentations, such as horizontal flips and rotation range, to introduce more diversity into the training set. As we already have a separate validation dataset, we do not include any validation split in the generator."
   ]
  },
  {
   "cell_type": "markdown",
   "id": "150cf640-76bb-477d-b336-f67dc20d3f5e",
   "metadata": {},
   "source": [
    "# Preparing the data"
   ]
  },
  {
   "cell_type": "code",
   "execution_count": 2,
   "id": "c967cef1-ab0d-4b08-98da-c9ddebda0297",
   "metadata": {},
   "outputs": [],
   "source": [
    "from tensorflow.keras.preprocessing.image import ImageDataGenerator\n",
    "\n",
    "# Create image generator with augmentation such as horizontal flip and rotation range to bring more diversity to the train set\n",
    "train_generator = ImageDataGenerator(rescale= 1 / 255, horizontal_flip=True, rotation_range=5)\n",
    "\n",
    "# Create the validation generator \n",
    "val_generator = ImageDataGenerator(rescale= 1/ 255)\n",
    "\n",
    "# Create the test generator\n",
    "test_generator = ImageDataGenerator(rescale= 1/ 255)"
   ]
  },
  {
   "cell_type": "code",
   "execution_count": 3,
   "id": "7c9b0a9e-6162-4fc0-b592-747ffdcbf05b",
   "metadata": {},
   "outputs": [
    {
     "name": "stdout",
     "output_type": "stream",
     "text": [
      "Structure du dossier pour le volume OS\n",
      "Le numéro de série du volume est A405-9E50\n",
      "C:\\USERS\\SAULAIS\\ONEDRIVE - OCP SA\\BUREAU\\EPFL\\ADSML_COURS_4\\COURSE PROJECT\\CIFAR10\n",
      "Chemin d’accès non valide - \\USERS\\SAULAIS\\ONEDRIVE - OCP SA\\BUREAU\\EPFL\\ADSML_COURS_4\\COURSE PROJECT\\CIFAR10\n",
      "Aucun sous-dossier existant \n",
      "\n"
     ]
    }
   ],
   "source": [
    "!tree /A cifar10"
   ]
  },
  {
   "cell_type": "code",
   "execution_count": 4,
   "id": "771a7560-d78a-4f65-ad9a-20bb5b606deb",
   "metadata": {},
   "outputs": [],
   "source": [
    "# Folder list\n",
    "folder_list = [\"bike\", \"car\", \"motorcycle\", \"other\", \"truck\", \"van\"]"
   ]
  },
  {
   "cell_type": "markdown",
   "id": "b0df2b30-9b56-4318-abe8-687d550b6e41",
   "metadata": {},
   "source": [
    "**Comments:** We do not shuffle data for the validation nor test set. In addition, we do not include subset as we have a separate set of data. We keep the default parameter. We keep the original picture size as target size. "
   ]
  },
  {
   "cell_type": "code",
   "execution_count": 5,
   "id": "284a8bbf-cba3-45d3-ba0f-8f4938bb05b9",
   "metadata": {},
   "outputs": [
    {
     "name": "stdout",
     "output_type": "stream",
     "text": [
      "Found 280 images belonging to 6 classes.\n",
      "Found 139 images belonging to 6 classes.\n",
      "Found 52 images belonging to 6 classes.\n"
     ]
    }
   ],
   "source": [
    "import os\n",
    "\n",
    "# Train set \n",
    "trainset = train_generator.flow_from_directory(\n",
    "    os.path.join(\"train\"), \n",
    "    classes=folder_list,       \n",
    "    batch_size=32, # We select 32 as a batch size\n",
    "    class_mode=\"sparse\",\n",
    "    shuffle=True,\n",
    "    target_size=(224, 224),\n",
    ")\n",
    "\n",
    "# validation and test sets\n",
    "valset = val_generator.flow_from_directory(\n",
    "    os.path.join(\"valid\"), \n",
    "    classes=folder_list, \n",
    "    batch_size=32,\n",
    "    class_mode=\"sparse\",\n",
    "    target_size=(224, 224),\n",
    "    shuffle=False\n",
    ")\n",
    "\n",
    "testset = test_generator.flow_from_directory(\n",
    "    os.path.join(\"test\"),  \n",
    "    classes=folder_list,     \n",
    "    batch_size=32,\n",
    "    target_size=(224, 224),\n",
    "    shuffle=False\n",
    ")\n"
   ]
  },
  {
   "cell_type": "code",
   "execution_count": 6,
   "id": "ece1947e-3135-4802-9bac-fffe0e5493fd",
   "metadata": {},
   "outputs": [
    {
     "data": {
      "text/plain": [
       "((280,), (139,), (52,))"
      ]
     },
     "execution_count": 6,
     "metadata": {},
     "output_type": "execute_result"
    }
   ],
   "source": [
    "# Extract labels for train, validation, and test sets\n",
    "train_labels = trainset.classes\n",
    "val_labels = valset.classes\n",
    "test_labels = testset.classes\n",
    "train_labels.shape, val_labels.shape, test_labels.shape"
   ]
  },
  {
   "cell_type": "code",
   "execution_count": 7,
   "id": "8a6f647c-d20e-4cf5-810d-6f09eecbd3fb",
   "metadata": {},
   "outputs": [],
   "source": [
    "import h5py\n",
    "import numpy as np\n",
    "\n",
    "def save_h5(iterator, output_path):\n",
    "\n",
    "    images, labels = [], []\n",
    "    \n",
    "    # Loop through the iterator to extract all data\n",
    "    for batch_images, batch_labels in iterator:\n",
    "        images.append(batch_images)\n",
    "        labels.append(batch_labels)\n",
    "        if len(images) * iterator.batch_size >= iterator.n:\n",
    "            break\n",
    "\n",
    "    # Combine batches into single arrays\n",
    "    images = np.concatenate(images, axis=0)\n",
    "    labels = np.concatenate(labels, axis=0)\n",
    "\n",
    "    # Save to an HDF5 file\n",
    "    with h5py.File(output_path, \"w\") as h5_file:\n",
    "        h5_file.create_dataset(\"features\", data=images)\n",
    "        h5_file.create_dataset(\"labels\", data=labels)\n",
    "\n",
    "    print(f\"Saved to {output_path}: Features Shape {images.shape}, Labels Shape {labels.shape}\")\n"
   ]
  },
  {
   "cell_type": "code",
   "execution_count": 8,
   "id": "f0d3d5db-b948-45cb-a08b-2c3231e18bda",
   "metadata": {},
   "outputs": [
    {
     "name": "stdout",
     "output_type": "stream",
     "text": [
      "Saved to train_data_no_hlf.h5: Features Shape (280, 224, 224, 3), Labels Shape (280,)\n",
      "Saved to val_data_no_hlf.h5: Features Shape (139, 224, 224, 3), Labels Shape (139,)\n",
      "Saved to test_data_no_hlf.h5: Features Shape (52, 224, 224, 3), Labels Shape (52, 6)\n"
     ]
    }
   ],
   "source": [
    "# Run the function to train, validation, and test sets to separate .h5 files\n",
    "save_h5(trainset, \"train_data_no_hlf.h5\")\n",
    "save_h5(valset, \"val_data_no_hlf.h5\")\n",
    "save_h5(testset, \"test_data_no_hlf.h5\")"
   ]
  },
  {
   "cell_type": "code",
   "execution_count": 9,
   "id": "1a3eeb65-bc42-4480-ac64-8ca9e8bf0832",
   "metadata": {},
   "outputs": [
    {
     "name": "stdout",
     "output_type": "stream",
     "text": [
      "Structure du dossier pour le volume OS\n",
      "Le numéro de série du volume est A405-9E50\n",
      "C:\\USERS\\SAULAIS\\ONEDRIVE - OCP SA\\BUREAU\\EPFL\\ADSML_COURS_4\\COURSE PROJECT\\TRAIN\n",
      "+---.ipynb_checkpoints\n",
      "+---bike\n",
      "+---car\n",
      "+---motorcycle\n",
      "+---other\n",
      "+---truck\n",
      "\\---van\n"
     ]
    }
   ],
   "source": [
    "# Checking the structure of folders\n",
    "!tree /A train"
   ]
  },
  {
   "cell_type": "code",
   "execution_count": 10,
   "id": "1622423c-64f8-4b5d-a244-0448f1f481a4",
   "metadata": {},
   "outputs": [
    {
     "data": {
      "text/plain": [
       "(set(), set())"
      ]
     },
     "execution_count": 10,
     "metadata": {},
     "output_type": "execute_result"
    }
   ],
   "source": [
    "# Checking if the sets intersets\n",
    "set(trainset.filenames).intersection(set(valset.filenames)), set(trainset.filenames).intersection(set(testset.filenames))"
   ]
  },
  {
   "cell_type": "code",
   "execution_count": 11,
   "id": "de911bd8-f061-49f4-ba87-efba4a81a758",
   "metadata": {},
   "outputs": [
    {
     "name": "stdout",
     "output_type": "stream",
     "text": [
      "Batch images: (32, 224, 224, 3)\n",
      "Batch labels: (32,)\n"
     ]
    }
   ],
   "source": [
    "batch_imgs, batch_labels = trainset.next()\n",
    "\n",
    "print(\"Batch images:\", batch_imgs.shape)\n",
    "print(\"Batch labels:\", batch_labels.shape)"
   ]
  },
  {
   "cell_type": "code",
   "execution_count": 12,
   "id": "fd1055c8-8d47-4821-91fd-f2e850be3347",
   "metadata": {},
   "outputs": [
    {
     "data": {
      "text/plain": [
       "{'bike': 0, 'car': 1, 'motorcycle': 2, 'other': 3, 'truck': 4, 'van': 5}"
      ]
     },
     "execution_count": 12,
     "metadata": {},
     "output_type": "execute_result"
    }
   ],
   "source": [
    "trainset.class_indices\n",
    "testset.class_indices"
   ]
  },
  {
   "cell_type": "markdown",
   "id": "9a09ebc0-b142-464b-88ca-ea2ec445eab4",
   "metadata": {},
   "source": [
    "*Comments:* The sets do not intersect. Each batch of images has 32 image with an RGB format in 224x224. There are 6 classes in each folder"
   ]
  },
  {
   "cell_type": "code",
   "execution_count": 13,
   "id": "62464ef3-f659-4334-826b-c05a89327d5e",
   "metadata": {},
   "outputs": [],
   "source": [
    "# Create the image feature extractor\n",
    "model_url = \"https://www.kaggle.com/models/google/mobilenet-v2/TensorFlow2/100-224-feature-vector/2\""
   ]
  },
  {
   "cell_type": "code",
   "execution_count": 14,
   "id": "59e5041a-ddec-4c83-b088-aecc80bedfa6",
   "metadata": {},
   "outputs": [],
   "source": [
    "feature_extractor = hub.load(model_url)"
   ]
  },
  {
   "cell_type": "code",
   "execution_count": 15,
   "id": "83705169-ace4-426f-99ba-6f08c668b926",
   "metadata": {},
   "outputs": [],
   "source": [
    "import tensorflow_hub as hub\n",
    "import tensorflow as tf\n",
    "\n",
    "# URL for MobileNetV2 feature extractor on TensorFlow Hub\n",
    "model_url = \"https://tfhub.dev/google/tf2-preview/mobilenet_v2/feature_vector/4\"\n",
    "\n",
    "# Load the pretrained feature extractor\n",
    "feature_extractor = hub.KerasLayer(model_url, input_shape=(224, 224, 3))"
   ]
  },
  {
   "cell_type": "code",
   "execution_count": 16,
   "id": "8982a428-abea-4254-bc7b-45a73c5a0a45",
   "metadata": {},
   "outputs": [
    {
     "name": "stdout",
     "output_type": "stream",
     "text": [
      "train features shape: (280, 1280)\n",
      "train labels shape: (280,)\n",
      "train features shape: (139, 1280)\n",
      "train labels shape: (139,)\n"
     ]
    }
   ],
   "source": [
    "train_hlf = []\n",
    "train_labels = []\n",
    "test_hlf = []\n",
    "test_labels = []\n",
    "val_hlf = []\n",
    "val_labels = []\n",
    "\n",
    "for _ in range(len(trainset)):  # Number of batches in the dataset\n",
    "    batch_imgs, batch_labels = trainset.next()\n",
    "    batch_features = feature_extractor(batch_imgs)  # Extract features\n",
    "    train_hlf.append(batch_features.numpy())\n",
    "    train_labels.append(batch_labels)\n",
    "for _ in range(len(testset)):  # Number of batches in the dataset\n",
    "    batch_imgs, batch_labels = testset.next()\n",
    "    batch_features = feature_extractor(batch_imgs)  # Extract features\n",
    "    test_hlf.append(batch_features.numpy())\n",
    "    test_labels.append(batch_labels)\n",
    "\n",
    "for _ in range(len(valset)):  # Number of batches in the dataset\n",
    "    batch_imgs, batch_labels = valset.next()\n",
    "    batch_features = feature_extractor(batch_imgs)  # Extract features\n",
    "    val_hlf.append(batch_features.numpy())\n",
    "    val_labels.append(batch_labels)   \n",
    "\n",
    "    \n",
    "# Convert to numpy arrays\n",
    "train_hlf = np.concatenate(train_hlf, axis=0)\n",
    "train_labels = np.concatenate(train_labels, axis=0)\n",
    "\n",
    "# Convert to numpy arrays\n",
    "test_hlf = np.concatenate(test_hlf, axis=0)\n",
    "test_labels = np.concatenate(test_labels, axis=0)\n",
    "\n",
    "# Convert to numpy arrays\n",
    "val_hlf = np.concatenate(val_hlf, axis=0)\n",
    "val_labels = np.concatenate(val_labels, axis=0)\n",
    "\n",
    "print(\"train features shape:\", train_hlf.shape)\n",
    "print(\"train labels shape:\", train_labels.shape)\n",
    "print(\"train features shape:\", val_hlf.shape)\n",
    "print(\"train labels shape:\", val_labels.shape)"
   ]
  },
  {
   "cell_type": "markdown",
   "id": "3b1e2e3c-c55b-477b-8b66-5eee58ae92aa",
   "metadata": {},
   "source": [
    "# Model 1 : 1 layer  "
   ]
  },
  {
   "cell_type": "code",
   "execution_count": 18,
   "id": "7e709248-d8b4-4295-83a5-cdccafb21da0",
   "metadata": {},
   "outputs": [
    {
     "name": "stdout",
     "output_type": "stream",
     "text": [
      "Model: \"sequential\"\n",
      "_________________________________________________________________\n",
      "Layer (type)                 Output Shape              Param #   \n",
      "=================================================================\n",
      "dense (Dense)                (None, 6)                 7686      \n",
      "=================================================================\n",
      "Total params: 7,686\n",
      "Trainable params: 7,686\n",
      "Non-trainable params: 0\n",
      "_________________________________________________________________\n"
     ]
    }
   ],
   "source": [
    "import tensorflow.keras as keras\n",
    "# Creation of the model\n",
    "model = keras.Sequential()\n",
    "# Adding 1 layer in the model\n",
    "model.add(keras.layers.Dense(units=6, input_dim=1280, activation=\"softmax\"))\n",
    "model.summary()"
   ]
  },
  {
   "cell_type": "markdown",
   "id": "ec6af5df-03af-4a28-b69e-5f97558a96a4",
   "metadata": {},
   "source": [
    "**Comments:** This 1 layer model includes the 1280 dimensions corresponding to the high level features and the 6 classes. The number of parameters calculated is 7686. We use the softmax activation function as the model is multi classes. We are now compiling the model with a cross entropy loss function and Adam optimizer. We will measure the accuracy to evaluate the model. "
   ]
  },
  {
   "cell_type": "code",
   "execution_count": 19,
   "id": "d8d0d04f-70da-4fbd-9860-523950e41919",
   "metadata": {},
   "outputs": [],
   "source": [
    "# Compile the model\n",
    "model.compile(optimizer=keras.optimizers.Adam(),\n",
    "              loss=\"sparse_categorical_crossentropy\",\n",
    "              metrics=[\"acc\"])"
   ]
  },
  {
   "cell_type": "code",
   "execution_count": 20,
   "id": "3b8a71e3-079a-4193-8549-a116cca2aaa2",
   "metadata": {},
   "outputs": [],
   "source": [
    "# End training when accuracy stops improving (optional)\n",
    "early_stopping = keras.callbacks.EarlyStopping(monitor=\"val_loss\", patience=6)"
   ]
  },
  {
   "cell_type": "code",
   "execution_count": 21,
   "id": "fb1c9b8f-77fe-450b-9339-5d2253ff1a63",
   "metadata": {},
   "outputs": [
    {
     "name": "stdout",
     "output_type": "stream",
     "text": [
      "Epoch 1/50\n",
      "9/9 [==============================] - 1s 62ms/step - loss: 1.3959 - acc: 0.4607 - val_loss: 0.9195 - val_acc: 0.7122\n",
      "Epoch 2/50\n",
      "9/9 [==============================] - 0s 14ms/step - loss: 0.6760 - acc: 0.8036 - val_loss: 0.5494 - val_acc: 0.8705\n",
      "Epoch 3/50\n",
      "9/9 [==============================] - 0s 10ms/step - loss: 0.3745 - acc: 0.9036 - val_loss: 0.4020 - val_acc: 0.8633\n",
      "Epoch 4/50\n",
      "9/9 [==============================] - 0s 8ms/step - loss: 0.2581 - acc: 0.9429 - val_loss: 0.3593 - val_acc: 0.8849\n",
      "Epoch 5/50\n",
      "9/9 [==============================] - 0s 22ms/step - loss: 0.2004 - acc: 0.9536 - val_loss: 0.3358 - val_acc: 0.8993\n",
      "Epoch 6/50\n",
      "9/9 [==============================] - 0s 14ms/step - loss: 0.1612 - acc: 0.9571 - val_loss: 0.3163 - val_acc: 0.8849\n",
      "Epoch 7/50\n",
      "9/9 [==============================] - 0s 8ms/step - loss: 0.1387 - acc: 0.9714 - val_loss: 0.3034 - val_acc: 0.8849\n",
      "Epoch 8/50\n",
      "9/9 [==============================] - 0s 13ms/step - loss: 0.1186 - acc: 0.9821 - val_loss: 0.3027 - val_acc: 0.8921\n",
      "Epoch 9/50\n",
      "9/9 [==============================] - 0s 15ms/step - loss: 0.1063 - acc: 0.9821 - val_loss: 0.3000 - val_acc: 0.8993\n",
      "Epoch 10/50\n",
      "9/9 [==============================] - 0s 8ms/step - loss: 0.0920 - acc: 0.9893 - val_loss: 0.2918 - val_acc: 0.8849\n",
      "Epoch 11/50\n",
      "9/9 [==============================] - 0s 9ms/step - loss: 0.0822 - acc: 0.9964 - val_loss: 0.2913 - val_acc: 0.8849\n",
      "Epoch 12/50\n",
      "9/9 [==============================] - 0s 10ms/step - loss: 0.0757 - acc: 0.9929 - val_loss: 0.2958 - val_acc: 0.8921\n",
      "Epoch 13/50\n",
      "9/9 [==============================] - 0s 9ms/step - loss: 0.0665 - acc: 0.9964 - val_loss: 0.2884 - val_acc: 0.8849\n",
      "Epoch 14/50\n",
      "9/9 [==============================] - 0s 9ms/step - loss: 0.0606 - acc: 0.9964 - val_loss: 0.2878 - val_acc: 0.8921\n",
      "Epoch 15/50\n",
      "9/9 [==============================] - 0s 8ms/step - loss: 0.0548 - acc: 1.0000 - val_loss: 0.2903 - val_acc: 0.8921\n",
      "Epoch 16/50\n",
      "9/9 [==============================] - 0s 8ms/step - loss: 0.0512 - acc: 1.0000 - val_loss: 0.2899 - val_acc: 0.8921\n",
      "Epoch 17/50\n",
      "9/9 [==============================] - 0s 10ms/step - loss: 0.0467 - acc: 1.0000 - val_loss: 0.2887 - val_acc: 0.8921\n",
      "Epoch 18/50\n",
      "9/9 [==============================] - 0s 9ms/step - loss: 0.0434 - acc: 1.0000 - val_loss: 0.2889 - val_acc: 0.8921\n",
      "Epoch 19/50\n",
      "9/9 [==============================] - 0s 27ms/step - loss: 0.0401 - acc: 1.0000 - val_loss: 0.2891 - val_acc: 0.8993\n",
      "Epoch 20/50\n",
      "9/9 [==============================] - 0s 8ms/step - loss: 0.0374 - acc: 1.0000 - val_loss: 0.2901 - val_acc: 0.8921\n"
     ]
    }
   ],
   "source": [
    "# Train model\n",
    "history = model.fit(train_hlf, train_labels, validation_data=(val_hlf, val_labels), epochs=50, callbacks=[early_stopping])"
   ]
  },
  {
   "cell_type": "code",
   "execution_count": 22,
   "id": "12df712a-4d8c-4251-bbc3-0d08d05b4ee6",
   "metadata": {},
   "outputs": [
    {
     "data": {
      "image/png": "[encoded data removed]",
      "text/plain": [
       "<Figure size 1200x400 with 2 Axes>"
      ]
     },
     "metadata": {},
     "output_type": "display_data"
    }
   ],
   "source": [
    "%matplotlib inline\n",
    "fig, (ax1, ax2) = plt.subplots(nrows=1, ncols=2, figsize=(12, 4))\n",
    "\n",
    "# Plot loss values\n",
    "ax1.set_title(\"loss: {:.4f}\".format(history.history[\"val_loss\"][-1]))\n",
    "ax1.plot(history.history[\"val_loss\"], label=\"validation\")\n",
    "ax1.plot(history.history[\"loss\"], label=\"training\")\n",
    "ax1.legend()\n",
    "\n",
    "# plot accuracy values\n",
    "ax2.set_title(\"accuracy: {:.2f}%\".format(history.history[\"val_acc\"][-1] * 100))\n",
    "ax2.plot(history.history[\"val_acc\"], label=\"validation\")\n",
    "ax2.plot(history.history[\"acc\"], label=\"training\")\n",
    "ax2.legend()\n",
    "\n",
    "plt.show()"
   ]
  },
  {
   "cell_type": "code",
   "execution_count": 23,
   "id": "41f75230-49b3-463f-91a4-d04cfd6540e7",
   "metadata": {},
   "outputs": [
    {
     "name": "stdout",
     "output_type": "stream",
     "text": [
      "Predictions: (52, 6)\n"
     ]
    }
   ],
   "source": [
    "test_preds = model.predict(test_hlf)\n",
    "print(\"Predictions:\", test_preds.shape)"
   ]
  },
  {
   "cell_type": "code",
   "execution_count": 24,
   "id": "bd869c11-15db-482b-a767-7b777a3ed6a6",
   "metadata": {},
   "outputs": [
    {
     "data": {
      "text/html": [
       "<div>\n",
       "<style scoped>\n",
       "    .dataframe tbody tr th:only-of-type {\n",
       "        vertical-align: middle;\n",
       "    }\n",
       "\n",
       "    .dataframe tbody tr th {\n",
       "        vertical-align: top;\n",
       "    }\n",
       "\n",
       "    .dataframe thead th {\n",
       "        text-align: right;\n",
       "    }\n",
       "</style>\n",
       "<table border=\"1\" class=\"dataframe\">\n",
       "  <thead>\n",
       "    <tr style=\"text-align: right;\">\n",
       "      <th>Predictions</th>\n",
       "      <th>bike</th>\n",
       "      <th>car</th>\n",
       "      <th>motorcycle</th>\n",
       "      <th>other</th>\n",
       "      <th>truck</th>\n",
       "      <th>van</th>\n",
       "    </tr>\n",
       "    <tr>\n",
       "      <th>True class</th>\n",
       "      <th></th>\n",
       "      <th></th>\n",
       "      <th></th>\n",
       "      <th></th>\n",
       "      <th></th>\n",
       "      <th></th>\n",
       "    </tr>\n",
       "  </thead>\n",
       "  <tbody>\n",
       "    <tr>\n",
       "      <th>bike</th>\n",
       "      <td>12</td>\n",
       "      <td>0</td>\n",
       "      <td>0</td>\n",
       "      <td>0</td>\n",
       "      <td>0</td>\n",
       "      <td>0</td>\n",
       "    </tr>\n",
       "    <tr>\n",
       "      <th>car</th>\n",
       "      <td>0</td>\n",
       "      <td>11</td>\n",
       "      <td>0</td>\n",
       "      <td>0</td>\n",
       "      <td>0</td>\n",
       "      <td>0</td>\n",
       "    </tr>\n",
       "    <tr>\n",
       "      <th>motorcycle</th>\n",
       "      <td>0</td>\n",
       "      <td>0</td>\n",
       "      <td>9</td>\n",
       "      <td>0</td>\n",
       "      <td>0</td>\n",
       "      <td>0</td>\n",
       "    </tr>\n",
       "    <tr>\n",
       "      <th>other</th>\n",
       "      <td>0</td>\n",
       "      <td>0</td>\n",
       "      <td>0</td>\n",
       "      <td>8</td>\n",
       "      <td>0</td>\n",
       "      <td>0</td>\n",
       "    </tr>\n",
       "    <tr>\n",
       "      <th>truck</th>\n",
       "      <td>0</td>\n",
       "      <td>0</td>\n",
       "      <td>0</td>\n",
       "      <td>2</td>\n",
       "      <td>5</td>\n",
       "      <td>0</td>\n",
       "    </tr>\n",
       "    <tr>\n",
       "      <th>van</th>\n",
       "      <td>0</td>\n",
       "      <td>1</td>\n",
       "      <td>0</td>\n",
       "      <td>0</td>\n",
       "      <td>1</td>\n",
       "      <td>3</td>\n",
       "    </tr>\n",
       "  </tbody>\n",
       "</table>\n",
       "</div>"
      ],
      "text/plain": [
       "Predictions  bike  car  motorcycle  other  truck  van\n",
       "True class                                           \n",
       "bike           12    0           0      0      0    0\n",
       "car             0   11           0      0      0    0\n",
       "motorcycle      0    0           9      0      0    0\n",
       "other           0    0           0      8      0    0\n",
       "truck           0    0           0      2      5    0\n",
       "van             0    1           0      0      1    3"
      ]
     },
     "execution_count": 24,
     "metadata": {},
     "output_type": "execute_result"
    }
   ],
   "source": [
    "from sklearn.metrics import confusion_matrix\n",
    "import pandas as pd\n",
    "\n",
    "# Compute confusion matrix\n",
    "matrix = confusion_matrix(\n",
    "    y_true=testset.classes,            # array with true labels\n",
    "    y_pred=test_preds.argmax(axis=1),  # array with predicted labels\n",
    ")\n",
    "\n",
    "# Format as a DataFrame\n",
    "class_names = list(testset.class_indices.keys())\n",
    "matrix_df = pd.DataFrame(data=matrix, columns=class_names, index=class_names)\n",
    "matrix_df.columns.name = \"Predictions\"\n",
    "matrix_df.index.name = \"True class\"\n",
    "matrix_df"
   ]
  },
  {
   "cell_type": "markdown",
   "id": "4afdc657-6a1d-45b8-a77c-f33155395e92",
   "metadata": {},
   "source": [
    "# As test data are one hot encoded, we have to convert them back into numbers from 0 to 5"
   ]
  },
  {
   "cell_type": "code",
   "execution_count": 38,
   "id": "7c98b78c-e7f1-4738-8ac3-a5826e253426",
   "metadata": {},
   "outputs": [],
   "source": [
    "# Convert one-hot encoded labels\n",
    "test_labels_converted = np.argmax(test_labels, axis=1)\n"
   ]
  },
  {
   "cell_type": "code",
   "execution_count": 51,
   "id": "879a4688-2a8f-4c3c-9287-ff89df502052",
   "metadata": {},
   "outputs": [
    {
     "name": "stdout",
     "output_type": "stream",
     "text": [
      "2/2 [==============================] - 0s 5ms/step - loss: 0.2467 - acc: 0.9231\n",
      "Test loss: 0.25\n",
      "Test accuracy: 92.31%\n"
     ]
    }
   ],
   "source": [
    "# Calculate the accuracy of the model \n",
    "(test_loss, nn_score) = model.evaluate(test_hlf, test_labels_converted, batch_size=32)\n",
    "nn_score_1 = nn_score * 100\n",
    "print(\"Test loss: {:.2f}\".format(test_loss))\n",
    "print(\"Test accuracy: {:.2f}%\".format(nn_score_1))"
   ]
  },
  {
   "cell_type": "code",
   "execution_count": 58,
   "id": "5c33c4e0-aa32-4e8d-99e9-f011f4c05e1e",
   "metadata": {},
   "outputs": [],
   "source": [
    "#Save the score in the SQL Table \n",
    "import sqlite3\n",
    "\n",
    "layer_1_data = {'model': ['1-layer-nn'],\n",
    "        'test_accuracy': [nn_score_1]}\n",
    "layer_1_df = pd.DataFrame(layer_1_data)\n",
    "\n",
    "# Save to SQLite\n",
    "conn = sqlite3.connect('results.db')\n",
    "layer_1_df.to_sql('results_table', conn, if_exists='append', index=False)\n",
    "conn.close()"
   ]
  },
  {
   "cell_type": "markdown",
   "id": "a7c55e14-19ee-402d-b182-a675b91709ba",
   "metadata": {},
   "source": [
    "*Comment:* This first model is already good with 90% of accuracy. Based on the test set, the model made 1 error classifying a van as a car. "
   ]
  },
  {
   "cell_type": "markdown",
   "id": "6fcdc141-ee7b-42da-8eaf-a73c9b6f5745",
   "metadata": {},
   "source": [
    "# Model 2 : 2 Layers"
   ]
  },
  {
   "cell_type": "markdown",
   "id": "4bdd0181-8993-42b2-80df-9c8baeb1469c",
   "metadata": {},
   "source": [
    "*Comment:* We are now adding a new layer with Relu activation function "
   ]
  },
  {
   "cell_type": "code",
   "execution_count": 25,
   "id": "bbe8edc5-1056-458d-b261-f943182faeab",
   "metadata": {},
   "outputs": [
    {
     "name": "stdout",
     "output_type": "stream",
     "text": [
      "Model: \"sequential\"\n",
      "_________________________________________________________________\n",
      "Layer (type)                 Output Shape              Param #   \n",
      "=================================================================\n",
      "dense (Dense)                (None, 6)                 7686      \n",
      "=================================================================\n",
      "Total params: 7,686\n",
      "Trainable params: 7,686\n",
      "Non-trainable params: 0\n",
      "_________________________________________________________________\n"
     ]
    }
   ],
   "source": [
    "# Creation of the model\n",
    "model_2 = keras.Sequential()\n",
    "# Adding 1 layer in the model with activation function relu\n",
    "model_2.add(keras.layers.Dense(units=128, input_dim=1280, activation=\"relu\")),\n",
    "\n",
    "model_2.add(keras.layers.Dense(units=6, activation=\"softmax\")),\n",
    "\n",
    "model.summary()"
   ]
  },
  {
   "cell_type": "code",
   "execution_count": 26,
   "id": "90d5dac6-d4ac-4c8d-a3ac-2fbd04fb95cb",
   "metadata": {},
   "outputs": [],
   "source": [
    "# Compile the model\n",
    "model_2.compile(optimizer=keras.optimizers.Adam(),\n",
    "              loss=\"sparse_categorical_crossentropy\",\n",
    "              metrics=[\"acc\"])"
   ]
  },
  {
   "cell_type": "code",
   "execution_count": 27,
   "id": "20d95b8e-7459-4834-aa6b-d63528b3962f",
   "metadata": {},
   "outputs": [
    {
     "name": "stdout",
     "output_type": "stream",
     "text": [
      "Epoch 1/50\n",
      "9/9 [==============================] - 2s 50ms/step - loss: 0.9772 - acc: 0.6571 - val_loss: 0.4131 - val_acc: 0.8705\n",
      "Epoch 2/50\n",
      "9/9 [==============================] - 0s 10ms/step - loss: 0.2131 - acc: 0.9321 - val_loss: 0.3102 - val_acc: 0.8993\n",
      "Epoch 3/50\n",
      "9/9 [==============================] - 0s 16ms/step - loss: 0.1005 - acc: 0.9643 - val_loss: 0.2934 - val_acc: 0.9137\n",
      "Epoch 4/50\n",
      "9/9 [==============================] - 0s 16ms/step - loss: 0.0515 - acc: 0.9893 - val_loss: 0.3302 - val_acc: 0.8993\n",
      "Epoch 5/50\n",
      "9/9 [==============================] - 0s 16ms/step - loss: 0.0304 - acc: 1.0000 - val_loss: 0.3166 - val_acc: 0.9065\n",
      "Epoch 6/50\n",
      "9/9 [==============================] - 0s 12ms/step - loss: 0.0194 - acc: 1.0000 - val_loss: 0.3222 - val_acc: 0.9137\n",
      "Epoch 7/50\n",
      "9/9 [==============================] - 0s 10ms/step - loss: 0.0130 - acc: 1.0000 - val_loss: 0.3302 - val_acc: 0.8993\n",
      "Epoch 8/50\n",
      "9/9 [==============================] - 0s 14ms/step - loss: 0.0104 - acc: 1.0000 - val_loss: 0.3331 - val_acc: 0.9065\n",
      "Epoch 9/50\n",
      "9/9 [==============================] - 0s 12ms/step - loss: 0.0084 - acc: 1.0000 - val_loss: 0.3338 - val_acc: 0.9137\n"
     ]
    }
   ],
   "source": [
    "\n",
    "history_2 = model_2.fit(train_hlf, train_labels, validation_data=(val_hlf, val_labels), epochs=50, callbacks=early_stopping)"
   ]
  },
  {
   "cell_type": "code",
   "execution_count": 28,
   "id": "5851b7df-f0c5-46e9-bdd8-c41b1be2e821",
   "metadata": {},
   "outputs": [
    {
     "data": {
      "image/png": "[encoded data removed]",
      "text/plain": [
       "<Figure size 1200x400 with 2 Axes>"
      ]
     },
     "metadata": {},
     "output_type": "display_data"
    }
   ],
   "source": [
    "%matplotlib inline\n",
    "fig, (ax1, ax2) = plt.subplots(nrows=1, ncols=2, figsize=(12, 4))\n",
    "\n",
    "# Plot loss values\n",
    "ax1.set_title(\"loss: {:.4f}\".format(history_2.history[\"val_loss\"][-1]))\n",
    "ax1.plot(history.history[\"val_loss\"], label=\"validation\")\n",
    "ax1.plot(history.history[\"loss\"], label=\"training\")\n",
    "ax1.legend()\n",
    "\n",
    "# plot accuracy values\n",
    "ax2.set_title(\"accuracy: {:.2f}%\".format(history_2.history[\"val_acc\"][-1] * 100))\n",
    "ax2.plot(history.history[\"val_acc\"], label=\"validation\")\n",
    "ax2.plot(history.history[\"acc\"], label=\"training\")\n",
    "ax2.legend()\n",
    "\n",
    "plt.show()"
   ]
  },
  {
   "cell_type": "code",
   "execution_count": 29,
   "id": "918e2296-8867-4c5a-ae6b-ac33e18f982f",
   "metadata": {},
   "outputs": [
    {
     "name": "stdout",
     "output_type": "stream",
     "text": [
      "Predictions: (52, 6)\n"
     ]
    }
   ],
   "source": [
    "test_preds_2 = model_2.predict(test_hlf)\n",
    "print(\"Predictions:\", test_preds_2.shape)"
   ]
  },
  {
   "cell_type": "code",
   "execution_count": 30,
   "id": "caa0391f-6e57-49ca-a747-258dc0f0e88a",
   "metadata": {},
   "outputs": [
    {
     "data": {
      "text/html": [
       "<div>\n",
       "<style scoped>\n",
       "    .dataframe tbody tr th:only-of-type {\n",
       "        vertical-align: middle;\n",
       "    }\n",
       "\n",
       "    .dataframe tbody tr th {\n",
       "        vertical-align: top;\n",
       "    }\n",
       "\n",
       "    .dataframe thead th {\n",
       "        text-align: right;\n",
       "    }\n",
       "</style>\n",
       "<table border=\"1\" class=\"dataframe\">\n",
       "  <thead>\n",
       "    <tr style=\"text-align: right;\">\n",
       "      <th>Predictions</th>\n",
       "      <th>bike</th>\n",
       "      <th>car</th>\n",
       "      <th>motorcycle</th>\n",
       "      <th>other</th>\n",
       "      <th>truck</th>\n",
       "      <th>van</th>\n",
       "    </tr>\n",
       "    <tr>\n",
       "      <th>True class</th>\n",
       "      <th></th>\n",
       "      <th></th>\n",
       "      <th></th>\n",
       "      <th></th>\n",
       "      <th></th>\n",
       "      <th></th>\n",
       "    </tr>\n",
       "  </thead>\n",
       "  <tbody>\n",
       "    <tr>\n",
       "      <th>bike</th>\n",
       "      <td>12</td>\n",
       "      <td>0</td>\n",
       "      <td>0</td>\n",
       "      <td>0</td>\n",
       "      <td>0</td>\n",
       "      <td>0</td>\n",
       "    </tr>\n",
       "    <tr>\n",
       "      <th>car</th>\n",
       "      <td>0</td>\n",
       "      <td>11</td>\n",
       "      <td>0</td>\n",
       "      <td>0</td>\n",
       "      <td>0</td>\n",
       "      <td>0</td>\n",
       "    </tr>\n",
       "    <tr>\n",
       "      <th>motorcycle</th>\n",
       "      <td>0</td>\n",
       "      <td>0</td>\n",
       "      <td>9</td>\n",
       "      <td>0</td>\n",
       "      <td>0</td>\n",
       "      <td>0</td>\n",
       "    </tr>\n",
       "    <tr>\n",
       "      <th>other</th>\n",
       "      <td>0</td>\n",
       "      <td>0</td>\n",
       "      <td>0</td>\n",
       "      <td>8</td>\n",
       "      <td>0</td>\n",
       "      <td>0</td>\n",
       "    </tr>\n",
       "    <tr>\n",
       "      <th>truck</th>\n",
       "      <td>0</td>\n",
       "      <td>0</td>\n",
       "      <td>0</td>\n",
       "      <td>0</td>\n",
       "      <td>7</td>\n",
       "      <td>0</td>\n",
       "    </tr>\n",
       "    <tr>\n",
       "      <th>van</th>\n",
       "      <td>0</td>\n",
       "      <td>1</td>\n",
       "      <td>0</td>\n",
       "      <td>0</td>\n",
       "      <td>1</td>\n",
       "      <td>3</td>\n",
       "    </tr>\n",
       "  </tbody>\n",
       "</table>\n",
       "</div>"
      ],
      "text/plain": [
       "Predictions  bike  car  motorcycle  other  truck  van\n",
       "True class                                           \n",
       "bike           12    0           0      0      0    0\n",
       "car             0   11           0      0      0    0\n",
       "motorcycle      0    0           9      0      0    0\n",
       "other           0    0           0      8      0    0\n",
       "truck           0    0           0      0      7    0\n",
       "van             0    1           0      0      1    3"
      ]
     },
     "execution_count": 30,
     "metadata": {},
     "output_type": "execute_result"
    }
   ],
   "source": [
    "from sklearn.metrics import confusion_matrix\n",
    "import pandas as pd\n",
    "\n",
    "# Compute confusion matrix\n",
    "matrix = confusion_matrix(\n",
    "    y_true=testset.classes,            # array with true labels\n",
    "    y_pred=test_preds_2.argmax(axis=1),  # array with predicted labels\n",
    ")\n",
    "\n",
    "# Format as a DataFrame\n",
    "class_names = list(testset.class_indices.keys())\n",
    "matrix_df = pd.DataFrame(data=matrix, columns=class_names, index=class_names)\n",
    "matrix_df.columns.name = \"Predictions\"\n",
    "matrix_df.index.name = \"True class\"\n",
    "matrix_df"
   ]
  },
  {
   "cell_type": "markdown",
   "id": "82c6ce02-5a73-427d-b3f4-74c0c20c99c0",
   "metadata": {},
   "source": [
    "**Comments:** We managed toimprove the accuracy of the model slightly in adding an additional layer. This model made only 1 mistake classifying a van as a car. We can say that adding a second layer doesn't improve the performance of the model. It is likely due to the fact that we are using high level features."
   ]
  },
  {
   "cell_type": "code",
   "execution_count": 53,
   "id": "bbe82337-d58d-434e-9d7c-f3f1e8404d5b",
   "metadata": {},
   "outputs": [
    {
     "name": "stdout",
     "output_type": "stream",
     "text": [
      "2/2 [==============================] - 0s 5ms/step - loss: 0.1900 - acc: 0.9615\n",
      "Test loss: 0.19\n",
      "Test accuracy: 9615.38%\n"
     ]
    }
   ],
   "source": [
    "# Calculate the accuracy of the model \n",
    "(test_loss, nn_2_score) = model_2.evaluate(test_hlf, test_labels_converted, batch_size=32)\n",
    "nn_score_2 = nn_2_score * 100\n",
    "print(\"Test loss: {:.2f}\".format(test_loss))\n",
    "print(\"Test accuracy: {:.2f}%\".format(100 * nn_score_2))"
   ]
  },
  {
   "cell_type": "code",
   "execution_count": 57,
   "id": "f79859fe-b9b1-4db5-8d03-803ff035b371",
   "metadata": {},
   "outputs": [],
   "source": [
    "#Save the score in the SQL Table \n",
    "import sqlite3\n",
    "\n",
    "layer_2_data = {'model': ['2-layer-nn'],\n",
    "        'test_accuracy': [nn_score_2]}\n",
    "layer_2_df = pd.DataFrame(layer_2_data)\n",
    "\n",
    "# Save to SQLite\n",
    "conn = sqlite3.connect('results.db')\n",
    "layer_2_df.to_sql('results_table', conn, if_exists='append', index=False)\n",
    "conn.close()"
   ]
  },
  {
   "cell_type": "code",
   "execution_count": null,
   "id": "8d12f113-ed69-4712-9cd1-4fd4d6ed4177",
   "metadata": {},
   "outputs": [],
   "source": []
  }
 ],
 "metadata": {
  "kernelspec": {
   "display_name": "Python [conda env:adsml] *",
   "language": "python",
   "name": "conda-env-adsml-py"
  },
  "language_info": {
   "codemirror_mode": {
    "name": "ipython",
    "version": 3
   },
   "file_extension": ".py",
   "mimetype": "text/x-python",
   "name": "python",
   "nbconvert_exporter": "python",
   "pygments_lexer": "ipython3",
   "version": "3.9.19"
  },
  "toc-showmarkdowntxt": false
 },
 "nbformat": 4,
 "nbformat_minor": 5
}
