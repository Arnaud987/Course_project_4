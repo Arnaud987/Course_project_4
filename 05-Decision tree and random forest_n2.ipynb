{
 "cells": [
  {
   "cell_type": "markdown",
   "id": "30d921e1-0451-4ce0-8a6e-de2319f8515a",
   "metadata": {
    "tags": []
   },
   "source": [
    "# 5. Decision trees and random forest\n",
    "\n",
    "Can you do better than the logistic regression with tree methods which are nonlinear?\n",
    "\n",
    "- What accuracy can you achieve using a decision trees with a depth of 3? Plot the corresponding decision tree with plot_tree() (see here for more)\n",
    "- Tune the depth of your decision tree. Does it improve the accuracy?\n",
    "(Optional) Do you get better results with your decision tree if you reduce the number of dimensions with PCA first?\n",
    "- Try a random forest model and tune the number of trees and their depth. Does increasing the number of trees help? Is there an optimal depth and how does it compare to your decision tree above?\n",
    "- The random forest estimator provides a ranking of the features according to their importance in the classification task via thefeature_importances_ attribute. Find the the top 5 important features and visualize their importance scores.\n",
    "- Are these top features similar to the ones you found based on the coefficients in the logistic regression task, and also during the data exploration in the last question of Task 1?"
   ]
  },
  {
   "cell_type": "code",
   "execution_count": 1,
   "id": "5f67e59b-40c5-40c2-937e-a96a28a95e41",
   "metadata": {
    "tags": []
   },
   "outputs": [],
   "source": [
    "import numpy as np\n",
    "import pandas as pd\n",
    "import matplotlib.pyplot as plt\n",
    "from PIL import Image\n",
    "import matplotlib.image as mpimg\n",
    "import tensorflow as tf\n",
    "from sklearn.ensemble import RandomForestClassifier\n",
    "from sklearn.model_selection import GridSearchCV"
   ]
  },
  {
   "cell_type": "code",
   "execution_count": 2,
   "id": "36149470-6c08-4570-941e-1a7a66b95cc5",
   "metadata": {},
   "outputs": [],
   "source": [
    "with np.load('train_data_np.npz', allow_pickle=False) as npz_file_tr:\n",
    "    # Load the arrays\n",
    "    X_tr = npz_file_tr['features']\n",
    "    y_tr = npz_file_tr['targets']"
   ]
  },
  {
   "cell_type": "code",
   "execution_count": 3,
   "id": "53221c77-7ca4-402f-a12f-3c1406b01f41",
   "metadata": {},
   "outputs": [],
   "source": [
    "with np.load('test_data_np.npz', allow_pickle=False) as npz_file_te:\n",
    "    # Load the arrays\n",
    "    X_te = npz_file_te['features']\n",
    "    y_te = npz_file_te['targets']"
   ]
  },
  {
   "cell_type": "code",
   "execution_count": 4,
   "id": "4ca81c90-559c-44a8-9641-b534f33fa7b0",
   "metadata": {},
   "outputs": [],
   "source": [
    "with np.load('val_data_np.npz', allow_pickle=False) as npz_file_val:\n",
    "    # Load the arrays\n",
    "    X_val = npz_file_val['features']\n",
    "    y_val = npz_file_val['targets']"
   ]
  },
  {
   "cell_type": "code",
   "execution_count": 5,
   "id": "de9e1f67-2a69-4087-b967-ff859363c909",
   "metadata": {
    "tags": []
   },
   "outputs": [],
   "source": [
    "# Folder list\n",
    "folder_list = [\"bike\", \"car\", \"motorcycle\", \"other\", \"truck\", \"van\"]"
   ]
  },
  {
   "cell_type": "code",
   "execution_count": 6,
   "id": "446633ca-c682-4a07-af98-44cc7429558a",
   "metadata": {},
   "outputs": [],
   "source": [
    "X_tr = X_tr.reshape(280, 1280)\n",
    "X_te = X_te.reshape(52, 1280)\n",
    "X_val = X_val.reshape(139,1280)"
   ]
  },
  {
   "cell_type": "markdown",
   "id": "905395f5-39fb-49f3-abcf-2a482cad50e1",
   "metadata": {},
   "source": [
    "## What accuracy can you achieve using a decision trees with a depth of 3? Plot the corresponding decision tree with plot_tree() (see here for more)"
   ]
  },
  {
   "cell_type": "markdown",
   "id": "a4d8b0fb-759c-4bb3-821b-5ffa8f7b3e98",
   "metadata": {},
   "source": [
    "*Comments:* We create the decision tree using a depth of 3, gini as measure of impurity and random state at 0 to ensure the reproductibility of results"
   ]
  },
  {
   "cell_type": "code",
   "execution_count": 7,
   "id": "fe257d17-0912-4343-88eb-f705ec725ce2",
   "metadata": {
    "tags": []
   },
   "outputs": [],
   "source": [
    "from sklearn.tree import DecisionTreeClassifier\n",
    "from sklearn.preprocessing import StandardScaler\n",
    "from sklearn.pipeline import Pipeline\n",
    "\n",
    "# Create a decision tree pipeline with max_depth=3\n",
    "dt = DecisionTreeClassifier(criterion=\"gini\", max_depth=3, random_state=0)\n",
    "\n"
   ]
  },
  {
   "cell_type": "code",
   "execution_count": 8,
   "id": "ef38ad6b-9818-44a4-a5c2-176d7781fbb2",
   "metadata": {},
   "outputs": [
    {
     "data": {
      "text/plain": [
       "0.7535714285714286"
      ]
     },
     "execution_count": 8,
     "metadata": {},
     "output_type": "execute_result"
    }
   ],
   "source": [
    "# Fit the pipeline\n",
    "dt.fit(X_tr, y_tr)\n",
    "\n",
    "# Get score\n",
    "dt.score(X_tr, y_tr)"
   ]
  },
  {
   "cell_type": "markdown",
   "id": "0a206ea6-f478-4a4c-ac2b-958915008b55",
   "metadata": {},
   "source": [
    "*Comments:* The accuracy is 75% which is well below the 94% reached with logistic regression.\n",
    "### Decision tree\n",
    "To plot the decision tree, we cannot use include the 1280 features, consequencently I am selecting the 10 most features based on their importance. The importance of a feature is computed as the (normalized) total reduction of the criterion brought by that feature. It is also known as the Gini importance."
   ]
  },
  {
   "cell_type": "code",
   "execution_count": 9,
   "id": "262e96b5-cdbc-4d52-98ba-c045ebeb0aa8",
   "metadata": {
    "tags": []
   },
   "outputs": [
    {
     "data": {
      "text/plain": [
       "bike          0.235714\n",
       "car           0.228571\n",
       "motorcycle    0.182143\n",
       "truck         0.150000\n",
       "other         0.114286\n",
       "van           0.089286\n",
       "dtype: float64"
      ]
     },
     "execution_count": 9,
     "metadata": {},
     "output_type": "execute_result"
    }
   ],
   "source": [
    "# Checking the proportion of each class\n",
    "pd.value_counts(y_tr, normalize=True)"
   ]
  },
  {
   "cell_type": "code",
   "execution_count": 10,
   "id": "cfefc3a5-de5a-4a98-8e5a-2b026f71bc1d",
   "metadata": {},
   "outputs": [
    {
     "data": {
      "text/plain": [
       "DecisionTreeClassifier(max_depth=3, random_state=0)"
      ]
     },
     "execution_count": 10,
     "metadata": {},
     "output_type": "execute_result"
    }
   ],
   "source": [
    "# Build and fit the estimator\n",
    "dt = DecisionTreeClassifier(criterion=\"gini\", max_depth=3, random_state=0)\n",
    "dt.fit(X_tr, y_tr)"
   ]
  },
  {
   "cell_type": "code",
   "execution_count": 11,
   "id": "be83a19c-dbd1-4656-8053-0b40636684ed",
   "metadata": {},
   "outputs": [],
   "source": [
    "# Calculation of Gini importance\n",
    "feature_importances = dt.feature_importances_"
   ]
  },
  {
   "cell_type": "code",
   "execution_count": 12,
   "id": "47bb0415-d54a-465a-ae2a-239f9d391811",
   "metadata": {},
   "outputs": [
    {
     "data": {
      "image/png": "[encoded data removed]",
      "text/plain": [
       "<Figure size 1500x700 with 1 Axes>"
      ]
     },
     "metadata": {},
     "output_type": "display_data"
    }
   ],
   "source": [
    "from sklearn import tree\n",
    "# Train a new decision tree on the reduced feature set\n",
    "dt.fit(X_tr, y_tr)\n",
    "\n",
    "# Plot the reduced decision tree\n",
    "plt.figure(figsize=(15, 7))\n",
    "tree.plot_tree(\n",
    "    dt,\n",
    "    #feature_names=feature_names,\n",
    "    class_names=folder_list,\n",
    "    filled=True\n",
    ")\n",
    "plt.title(\"Decision Tree - Top 10 Features and depth 3\")\n",
    "plt.show()"
   ]
  },
  {
   "cell_type": "markdown",
   "id": "96e90da9-4e13-4e3b-ad4f-4d1329161a02",
   "metadata": {},
   "source": [
    "*Comments:* The Gini impurity is high for the truck class, but we can see a low purity index on the bike and car class meaning that the models manages the classification well for these groups. The models is successfull to assess motorcycles in certain circumstances; if the feature 999 is below, 0,338, if the feature 783 is below 0,151 and if the feature 1136 is below -0,317. "
   ]
  },
  {
   "cell_type": "markdown",
   "id": "e332fa5c-e779-4fc2-873e-af31471d160d",
   "metadata": {},
   "source": [
    "### Tune the depth of your decision tree. Does it improve the accuracy? (Optional) Do you get better results with your decision tree if you reduce the number of dimensions with PCA first?\n",
    "We are tuning the model on depth values based on all features to visualize the train and validation curves"
   ]
  },
  {
   "cell_type": "code",
   "execution_count": 27,
   "id": "ff9990d4-a95f-475c-b90a-ae60e0cbe076",
   "metadata": {},
   "outputs": [],
   "source": [
    "#Tuning the model based on various depth (d) values \n",
    "dt = DecisionTreeClassifier(random_state=0)\n",
    "\n",
    "# Generate a set of  values\n",
    "d_values = [1, 2, 4, 6, 8, 10, 12, 14, 16]"
   ]
  },
  {
   "cell_type": "code",
   "execution_count": 28,
   "id": "8e4bcc27-50bf-4208-9545-95f91e45f147",
   "metadata": {},
   "outputs": [
    {
     "data": {
      "text/plain": [
       "((280, 1280), (280,), (139, 1280), (139,))"
      ]
     },
     "execution_count": 28,
     "metadata": {},
     "output_type": "execute_result"
    }
   ],
   "source": [
    "X_tr.shape, y_tr.shape, X_val.shape, y_val.shape"
   ]
  },
  {
   "cell_type": "code",
   "execution_count": 29,
   "id": "0828753f-d685-4ab0-acaf-88a42f42b827",
   "metadata": {},
   "outputs": [
    {
     "data": {
      "text/html": [
       "<div>\n",
       "<style scoped>\n",
       "    .dataframe tbody tr th:only-of-type {\n",
       "        vertical-align: middle;\n",
       "    }\n",
       "\n",
       "    .dataframe tbody tr th {\n",
       "        vertical-align: top;\n",
       "    }\n",
       "\n",
       "    .dataframe thead th {\n",
       "        text-align: right;\n",
       "    }\n",
       "</style>\n",
       "<table border=\"1\" class=\"dataframe\">\n",
       "  <thead>\n",
       "    <tr style=\"text-align: right;\">\n",
       "      <th></th>\n",
       "      <th>depth</th>\n",
       "      <th>train_accuracy</th>\n",
       "      <th>valid_accuracy</th>\n",
       "    </tr>\n",
       "  </thead>\n",
       "  <tbody>\n",
       "    <tr>\n",
       "      <th>3</th>\n",
       "      <td>6</td>\n",
       "      <td>0.939286</td>\n",
       "      <td>0.733813</td>\n",
       "    </tr>\n",
       "    <tr>\n",
       "      <th>5</th>\n",
       "      <td>10</td>\n",
       "      <td>1.000000</td>\n",
       "      <td>0.697842</td>\n",
       "    </tr>\n",
       "    <tr>\n",
       "      <th>6</th>\n",
       "      <td>12</td>\n",
       "      <td>1.000000</td>\n",
       "      <td>0.697842</td>\n",
       "    </tr>\n",
       "    <tr>\n",
       "      <th>7</th>\n",
       "      <td>14</td>\n",
       "      <td>1.000000</td>\n",
       "      <td>0.697842</td>\n",
       "    </tr>\n",
       "    <tr>\n",
       "      <th>8</th>\n",
       "      <td>16</td>\n",
       "      <td>1.000000</td>\n",
       "      <td>0.697842</td>\n",
       "    </tr>\n",
       "  </tbody>\n",
       "</table>\n",
       "</div>"
      ],
      "text/plain": [
       "   depth  train_accuracy  valid_accuracy\n",
       "3      6        0.939286        0.733813\n",
       "5     10        1.000000        0.697842\n",
       "6     12        1.000000        0.697842\n",
       "7     14        1.000000        0.697842\n",
       "8     16        1.000000        0.697842"
      ]
     },
     "execution_count": 29,
     "metadata": {},
     "output_type": "execute_result"
    }
   ],
   "source": [
    "# Variable to store the results\n",
    "gs_results = []\n",
    "\n",
    "# Grid search\n",
    "for d in d_values:\n",
    "    dt.set_params(max_depth=d)\n",
    "    dt.fit(X_tr, y_tr)\n",
    "    \n",
    "    # Save model and its performance on training/validation sets\n",
    "    gs_results.append(\n",
    "        {\n",
    "            \"depth\": d,  # Use the current depth value\n",
    "            \"train_accuracy\": dt.score(X_tr, y_tr),\n",
    "            \"valid_accuracy\": dt.score(X_val, y_val),\n",
    "        }\n",
    "    )\n",
    "\n",
    "gs_results = pd.DataFrame(gs_results)\n",
    "# Pri\n",
    "gs_results.sort_values(by=\"valid_accuracy\", ascending=False).head()\n"
   ]
  },
  {
   "cell_type": "code",
   "execution_count": 30,
   "id": "dddfe118-ce90-4877-aa8f-5279773f1134",
   "metadata": {},
   "outputs": [
    {
     "data": {
      "image/png": "[encoded data removed]",
      "text/plain": [
       "<Figure size 640x480 with 1 Axes>"
      ]
     },
     "metadata": {},
     "output_type": "display_data"
    }
   ],
   "source": [
    "%matplotlib inline\n",
    "import matplotlib.pyplot as plt\n",
    "\n",
    "# Plot the validation curves\n",
    "plt.plot(gs_results[\"depth\"], gs_results[\"train_accuracy\"], label=\"train curve\")\n",
    "plt.plot(gs_results[\"depth\"], gs_results[\"valid_accuracy\"], label=\"validation curve\")\n",
    "plt.ylabel(\"accuracy\")\n",
    "plt.xlabel(\"depth\")\n",
    "plt.legend()\n",
    "plt.show()"
   ]
  },
  {
   "cell_type": "code",
   "execution_count": 32,
   "id": "119f5464-fcf1-4b80-a02f-38eca8054a3f",
   "metadata": {
    "tags": []
   },
   "outputs": [
    {
     "name": "stdout",
     "output_type": "stream",
     "text": [
      "Best depth: 6.0\n",
      "Validation Accuracy: 0.7338\n"
     ]
    }
   ],
   "source": [
    "# Get entry with the best validation MSE\n",
    "best_result = gs_results.loc[gs_results.valid_accuracy.idxmax()]\n",
    "\n",
    "# Print the details\n",
    "print(\"Best depth: {}\".format(best_result.depth))\n",
    "print(\"Validation Accuracy: {:.4f}\".format(best_result.valid_accuracy))"
   ]
  },
  {
   "cell_type": "markdown",
   "id": "92d9624e-2138-479d-87ce-98894b220a02",
   "metadata": {},
   "source": [
    "*Comments:* We can see that increasing the dept of the decision tree improves the validation set accuracy up to a depth of 6 and an accuracy at 73%. However, above 6,0, the accuracy of the validation curve decreases sharply before platauing 70% while the train set curve reached 100%. It clearly indicates overfitting. We can try to reduce again the number of features "
   ]
  },
  {
   "cell_type": "code",
   "execution_count": 43,
   "id": "250e4edb-6c00-413f-a41b-3e64896e9f24",
   "metadata": {},
   "outputs": [],
   "source": [
    "# Data must be scaled before PCA\n",
    "from sklearn.decomposition import PCA\n",
    "from sklearn.preprocessing import StandardScaler"
   ]
  },
  {
   "cell_type": "code",
   "execution_count": 47,
   "id": "e909451f-38da-4b17-8d84-e68ba1ab4242",
   "metadata": {},
   "outputs": [],
   "source": [
    "scaler = StandardScaler()\n",
    "X_tr_standardized = scaler.fit_transform(X_tr)\n",
    "X_val_standardized = scaler.transform(X_val)"
   ]
  },
  {
   "cell_type": "code",
   "execution_count": 48,
   "id": "24f78f9b-b627-43d9-bf91-65a8d08f7147",
   "metadata": {},
   "outputs": [],
   "source": [
    "pca = PCA(n_components=2)\n",
    "# Apply PCA to rescaled data\n",
    "X_tr_pca = pca.fit_transform(X_tr_standardized)\n",
    "X_val_pca = pca.transform(X_val_standardized)"
   ]
  },
  {
   "cell_type": "code",
   "execution_count": 49,
   "id": "8a2eaf2d-d3a1-4f38-9cde-440256591494",
   "metadata": {},
   "outputs": [
    {
     "data": {
      "text/html": [
       "<div>\n",
       "<style scoped>\n",
       "    .dataframe tbody tr th:only-of-type {\n",
       "        vertical-align: middle;\n",
       "    }\n",
       "\n",
       "    .dataframe tbody tr th {\n",
       "        vertical-align: top;\n",
       "    }\n",
       "\n",
       "    .dataframe thead th {\n",
       "        text-align: right;\n",
       "    }\n",
       "</style>\n",
       "<table border=\"1\" class=\"dataframe\">\n",
       "  <thead>\n",
       "    <tr style=\"text-align: right;\">\n",
       "      <th></th>\n",
       "      <th>depth</th>\n",
       "      <th>train_accuracy</th>\n",
       "      <th>valid_accuracy</th>\n",
       "    </tr>\n",
       "  </thead>\n",
       "  <tbody>\n",
       "    <tr>\n",
       "      <th>2</th>\n",
       "      <td>4</td>\n",
       "      <td>0.903571</td>\n",
       "      <td>0.798561</td>\n",
       "    </tr>\n",
       "    <tr>\n",
       "      <th>3</th>\n",
       "      <td>6</td>\n",
       "      <td>0.932143</td>\n",
       "      <td>0.791367</td>\n",
       "    </tr>\n",
       "    <tr>\n",
       "      <th>4</th>\n",
       "      <td>8</td>\n",
       "      <td>0.985714</td>\n",
       "      <td>0.748201</td>\n",
       "    </tr>\n",
       "    <tr>\n",
       "      <th>5</th>\n",
       "      <td>10</td>\n",
       "      <td>1.000000</td>\n",
       "      <td>0.748201</td>\n",
       "    </tr>\n",
       "    <tr>\n",
       "      <th>6</th>\n",
       "      <td>12</td>\n",
       "      <td>1.000000</td>\n",
       "      <td>0.748201</td>\n",
       "    </tr>\n",
       "  </tbody>\n",
       "</table>\n",
       "</div>"
      ],
      "text/plain": [
       "   depth  train_accuracy  valid_accuracy\n",
       "2      4        0.903571        0.798561\n",
       "3      6        0.932143        0.791367\n",
       "4      8        0.985714        0.748201\n",
       "5     10        1.000000        0.748201\n",
       "6     12        1.000000        0.748201"
      ]
     },
     "execution_count": 49,
     "metadata": {},
     "output_type": "execute_result"
    }
   ],
   "source": [
    "# Variable to store the results\n",
    "gs_results_pca = []\n",
    "\n",
    "# Grid search\n",
    "for d in d_values:\n",
    "    # Fit decision tree model with pca_transformed data\n",
    "    dt_pca =DecisionTreeClassifier(criterion=\"gini\", max_depth=d, random_state=0)\n",
    "\n",
    "    dt_pca.fit(X_tr_pca, y_tr)\n",
    "\n",
    "    # Save model and its performance on training/validation sets\n",
    "    gs_results_pca.append(\n",
    "        {\n",
    "            \"depth\": d,\n",
    "            \"train_accuracy\": dt_pca.score(X_tr_pca, y_tr),\n",
    "            \"valid_accuracy\": dt_pca.score(X_val_pca, y_val),\n",
    "        }\n",
    "    )\n",
    "\n",
    "# Convert results to DataFrame\n",
    "gs_results_pca = pd.DataFrame(gs_results_pca)\n",
    "gs_results_pca.sort_values(by=\"valid_accuracy\", ascending=False).head()"
   ]
  },
  {
   "cell_type": "code",
   "execution_count": 50,
   "id": "cb82f2cf-feca-474f-95b0-c20cc6146316",
   "metadata": {},
   "outputs": [
    {
     "data": {
      "image/png": "[encoded data removed]",
      "text/plain": [
       "<Figure size 640x480 with 1 Axes>"
      ]
     },
     "metadata": {},
     "output_type": "display_data"
    }
   ],
   "source": [
    "\n",
    "# Plot the validation curves\n",
    "plt.plot(gs_results_pca[\"depth\"], gs_results_pca[\"train_accuracy\"], label=\"train curve\")\n",
    "plt.plot(gs_results_pca[\"depth\"], gs_results_pca[\"valid_accuracy\"], label=\"validation curve\")\n",
    "plt.ylabel(\"accuracy\")\n",
    "plt.xlabel(\"depth\")\n",
    "plt.legend()\n",
    "plt.show()"
   ]
  },
  {
   "cell_type": "code",
   "execution_count": 51,
   "id": "f51edb04-de03-4d93-bb10-b78ff312e31e",
   "metadata": {},
   "outputs": [
    {
     "name": "stdout",
     "output_type": "stream",
     "text": [
      "Best depth: 4.0\n",
      "Validation Accuracy: 0.7986\n"
     ]
    }
   ],
   "source": [
    "# Get entry with the best validation MSE\n",
    "best_result = gs_results_pca.loc[gs_results_pca.valid_accuracy.idxmax()]\n",
    "\n",
    "# Print the details\n",
    "print(\"Best depth: {}\".format(best_result.depth))\n",
    "print(\"Validation Accuracy: {:.4f}\".format(best_result.valid_accuracy))"
   ]
  },
  {
   "cell_type": "markdown",
   "id": "0fdeda40-2aa0-4ecd-ba1e-43b13a25fdfd",
   "metadata": {},
   "source": [
    "*Comments:* The result is better when we use a PCA first. Indeed, we can increase the accuracy to 79% with a pca transformed data set. The best depth is then 4. We can mention that having a max depth of 6 provides good results as well."
   ]
  },
  {
   "cell_type": "markdown",
   "id": "a6156666-753c-4485-b1b3-6936f86fcf89",
   "metadata": {},
   "source": [
    "### Try a random forest model and tune the number of trees and their depth. Does increasing the number of trees help? Is there an optimal depth and how does it compare to your decision tree above?"
   ]
  },
  {
   "cell_type": "markdown",
   "id": "5b706759-ab16-4bad-985f-2c46c637855f",
   "metadata": {},
   "source": [
    "*Comments:\" I am tuning the parameters *depth* and *number of trees* using a parameter grid. After defining a set of reasonable features, we create a pipeline to tune and assess the accuracy of the random forest model on 5-fold-cross-validation  "
   ]
  },
  {
   "cell_type": "code",
   "execution_count": 52,
   "id": "ae104f65-f3bc-418e-985a-dd63f72b54e2",
   "metadata": {},
   "outputs": [],
   "source": [
    "from sklearn.ensemble import RandomForestClassifier\n",
    "from sklearn.model_selection import ParameterGrid"
   ]
  },
  {
   "cell_type": "code",
   "execution_count": 61,
   "id": "2252a5c9-42ee-4607-a1f3-84c489ca9650",
   "metadata": {},
   "outputs": [
    {
     "data": {
      "text/plain": [
       "((419, 1280), (419,))"
      ]
     },
     "execution_count": 61,
     "metadata": {},
     "output_type": "execute_result"
    }
   ],
   "source": [
    "# Using validation and train data to fit the model and tune hyperparameters using GSCV\n",
    "X_final = np.concatenate((X_tr, X_val), axis=0) \n",
    "y_final = np.concatenate((y_tr, y_val), axis=0) \n",
    "X_final.shape, y_final.shape"
   ]
  },
  {
   "cell_type": "code",
   "execution_count": 114,
   "id": "aaee63b7-1df2-4c0a-8952-875888827b58",
   "metadata": {},
   "outputs": [],
   "source": [
    "# Define a set of reasonable values for the depth and number of estimators of the forest\n",
    "d_val = [3, 9, 1]\n",
    "nb_trees = [25, 60, 5]"
   ]
  },
  {
   "cell_type": "code",
   "execution_count": 115,
   "id": "3e99666e-61d5-4588-8648-eef78012f5a8",
   "metadata": {},
   "outputs": [
    {
     "data": {
      "text/plain": [
       "([3, 9, 1], [25, 60, 5])"
      ]
     },
     "execution_count": 115,
     "metadata": {},
     "output_type": "execute_result"
    }
   ],
   "source": [
    "# Visualize the set of values\n",
    "d_val, nb_trees"
   ]
  },
  {
   "cell_type": "code",
   "execution_count": 123,
   "id": "1584c5aa-4305-4815-be35-5e34ed5573b9",
   "metadata": {},
   "outputs": [],
   "source": [
    "from sklearn.ensemble import RandomForestClassifier\n",
    "from sklearn.model_selection import GridSearchCV\n",
    "\n",
    "rf = RandomForestClassifier(random_state=42)\n",
    "\n",
    "# Hyperparameter grid\n",
    "param_grid = {\n",
    "    \"n_estimators\": [5, 25, 60, 100, 200, 400],  # Number of trees in the forest\n",
    "    \"max_depth\": [1, 3, 4, 7, 9, 10],       # Maximum depth of the trees\n",
    "}\n",
    "\n",
    "# Grid search with cross-validation\n",
    "rf_gscv = GridSearchCV(\n",
    "    rf, param_grid=param_grid, cv=5, refit=True, return_train_score=True\n",
    ")"
   ]
  },
  {
   "cell_type": "code",
   "execution_count": 124,
   "id": "4c655884-07ea-4fe1-8fbc-d1e5094a9432",
   "metadata": {},
   "outputs": [
    {
     "data": {
      "text/html": [
       "<div>\n",
       "<style scoped>\n",
       "    .dataframe tbody tr th:only-of-type {\n",
       "        vertical-align: middle;\n",
       "    }\n",
       "\n",
       "    .dataframe tbody tr th {\n",
       "        vertical-align: top;\n",
       "    }\n",
       "\n",
       "    .dataframe thead th {\n",
       "        text-align: right;\n",
       "    }\n",
       "</style>\n",
       "<table border=\"1\" class=\"dataframe\">\n",
       "  <thead>\n",
       "    <tr style=\"text-align: right;\">\n",
       "      <th></th>\n",
       "      <th>nb_trees</th>\n",
       "      <th>max_depth</th>\n",
       "      <th>mean_tr</th>\n",
       "      <th>mean_te</th>\n",
       "      <th>std_te</th>\n",
       "    </tr>\n",
       "  </thead>\n",
       "  <tbody>\n",
       "    <tr>\n",
       "      <th>35</th>\n",
       "      <td>400</td>\n",
       "      <td>10</td>\n",
       "      <td>1.0</td>\n",
       "      <td>0.892685</td>\n",
       "      <td>0.029914</td>\n",
       "    </tr>\n",
       "    <tr>\n",
       "      <th>28</th>\n",
       "      <td>200</td>\n",
       "      <td>9</td>\n",
       "      <td>1.0</td>\n",
       "      <td>0.890333</td>\n",
       "      <td>0.036999</td>\n",
       "    </tr>\n",
       "    <tr>\n",
       "      <th>29</th>\n",
       "      <td>400</td>\n",
       "      <td>9</td>\n",
       "      <td>1.0</td>\n",
       "      <td>0.890275</td>\n",
       "      <td>0.027373</td>\n",
       "    </tr>\n",
       "    <tr>\n",
       "      <th>34</th>\n",
       "      <td>200</td>\n",
       "      <td>10</td>\n",
       "      <td>1.0</td>\n",
       "      <td>0.880780</td>\n",
       "      <td>0.037429</td>\n",
       "    </tr>\n",
       "    <tr>\n",
       "      <th>22</th>\n",
       "      <td>200</td>\n",
       "      <td>7</td>\n",
       "      <td>1.0</td>\n",
       "      <td>0.880752</td>\n",
       "      <td>0.035114</td>\n",
       "    </tr>\n",
       "    <tr>\n",
       "      <th>23</th>\n",
       "      <td>400</td>\n",
       "      <td>7</td>\n",
       "      <td>1.0</td>\n",
       "      <td>0.880723</td>\n",
       "      <td>0.025876</td>\n",
       "    </tr>\n",
       "    <tr>\n",
       "      <th>33</th>\n",
       "      <td>100</td>\n",
       "      <td>10</td>\n",
       "      <td>1.0</td>\n",
       "      <td>0.878399</td>\n",
       "      <td>0.032031</td>\n",
       "    </tr>\n",
       "    <tr>\n",
       "      <th>20</th>\n",
       "      <td>60</td>\n",
       "      <td>7</td>\n",
       "      <td>1.0</td>\n",
       "      <td>0.878371</td>\n",
       "      <td>0.021472</td>\n",
       "    </tr>\n",
       "    <tr>\n",
       "      <th>27</th>\n",
       "      <td>100</td>\n",
       "      <td>9</td>\n",
       "      <td>1.0</td>\n",
       "      <td>0.875990</td>\n",
       "      <td>0.036356</td>\n",
       "    </tr>\n",
       "    <tr>\n",
       "      <th>21</th>\n",
       "      <td>100</td>\n",
       "      <td>7</td>\n",
       "      <td>1.0</td>\n",
       "      <td>0.873580</td>\n",
       "      <td>0.030447</td>\n",
       "    </tr>\n",
       "  </tbody>\n",
       "</table>\n",
       "</div>"
      ],
      "text/plain": [
       "   nb_trees max_depth  mean_tr   mean_te    std_te\n",
       "35      400        10      1.0  0.892685  0.029914\n",
       "28      200         9      1.0  0.890333  0.036999\n",
       "29      400         9      1.0  0.890275  0.027373\n",
       "34      200        10      1.0  0.880780  0.037429\n",
       "22      200         7      1.0  0.880752  0.035114\n",
       "23      400         7      1.0  0.880723  0.025876\n",
       "33      100        10      1.0  0.878399  0.032031\n",
       "20       60         7      1.0  0.878371  0.021472\n",
       "27      100         9      1.0  0.875990  0.036356\n",
       "21      100         7      1.0  0.873580  0.030447"
      ]
     },
     "execution_count": 124,
     "metadata": {},
     "output_type": "execute_result"
    }
   ],
   "source": [
    "# Create a dataframe to store the accuracy and parameter values\n",
    "import warnings\n",
    "from sklearn.exceptions import ConvergenceWarning\n",
    "\n",
    "# Filter convergence warnings\n",
    "warnings.simplefilter(\"ignore\", ConvergenceWarning)\n",
    "\n",
    "# Fit/evaluate estimator\n",
    "rf_gscv.fit(X_final, y_final)\n",
    "\n",
    "rf_results = pd.DataFrame(\n",
    "    {\n",
    "        \"nb_trees\": rf_gscv.cv_results_[\"param_n_estimators\"], \n",
    "        \"max_depth\": rf_gscv.cv_results_[\"param_max_depth\"], \n",
    "        \"mean_tr\": rf_gscv.cv_results_[\"mean_train_score\"],\n",
    "        \"mean_te\": rf_gscv.cv_results_[\"mean_test_score\"],\n",
    "        \"std_te\": rf_gscv.cv_results_[\"std_test_score\"],\n",
    "    }\n",
    ")\n",
    "\n",
    "\n",
    "# Ten best combinations according to the mean test score\n",
    "rf_results.sort_values(by=\"mean_te\", ascending=False).head(10)"
   ]
  },
  {
   "cell_type": "code",
   "execution_count": 125,
   "id": "852b26d5-dcfb-4bb0-a4fa-e937ab5e4d65",
   "metadata": {},
   "outputs": [
    {
     "name": "stdout",
     "output_type": "stream",
     "text": [
      "Best depth: 10\n"
     ]
    }
   ],
   "source": [
    "# Get the best depth value from the gridearch\n",
    "best_depth = rf_gscv.best_params_['max_depth']\n",
    "print(f\"Best depth: {best_depth}\")"
   ]
  },
  {
   "cell_type": "code",
   "execution_count": 126,
   "id": "955c8d0d-8d93-4985-84ea-a294cef84e0d",
   "metadata": {},
   "outputs": [
    {
     "name": "stdout",
     "output_type": "stream",
     "text": [
      "Best nb of tree: 400\n"
     ]
    }
   ],
   "source": [
    "# Get the best nb of tree value from the grid search\n",
    "best_trees = rf_gscv.best_params_['n_estimators']\n",
    "print(f\"Best nb of tree: {best_trees}\")"
   ]
  },
  {
   "cell_type": "code",
   "execution_count": 128,
   "id": "e5f31758-7162-4b14-becb-384ccd2a5ceb",
   "metadata": {},
   "outputs": [],
   "source": [
    "# Evaluate the strategie using test data\n",
    "dt_score = rf_gscv.score(X_te, y_te) * 100"
   ]
  },
  {
   "cell_type": "markdown",
   "id": "8d0fdd99-b485-49c6-94ca-c630e9411c9f",
   "metadata": {},
   "source": [
    "*Comments:* The optimal tree depth after tuning is 9 with 200 trees. Increasing the number of estimators significantly improves the model's performance, achieving an accuracy of 94%, compared to 80% with just a single estimator. It is worth noting that the depth of each tree is very similar to the depth obtained after tuning a single decision tree. We are now fitting the model on the combined training and validation sets before predicting the results and evaluating the score on the test set."
   ]
  },
  {
   "cell_type": "code",
   "execution_count": 129,
   "id": "68be3860-7528-4ef4-a088-eb1ba5f8e64f",
   "metadata": {},
   "outputs": [],
   "source": [
    "#Save the score in the SQL Table \n",
    "import sqlite3\n",
    "\n",
    "dt_data = {'model': ['Random Forest'],\n",
    "        'test_accuracy': [dt_score]}\n",
    "dt_df = pd.DataFrame(dt_data)\n",
    "\n",
    "# Save to SQLite\n",
    "conn = sqlite3.connect('results.db')\n",
    "dt_df.to_sql('results_table', conn, if_exists='append', index=False)\n",
    "conn.close()"
   ]
  },
  {
   "cell_type": "markdown",
   "id": "9c0c9d6a-0fc9-480a-833e-0255f346fdfc",
   "metadata": {
    "tags": []
   },
   "source": [
    "### The random forest estimator provides a ranking of the features according to their importance in the classification task via thefeature_importances_ attribute. Find the the top 5 important features and visualize their importance scores.\n",
    "\n",
    "To achieve this, I am creating a model tuned with the best hyperparameters. Then, I retrieve and sort the feature coefficients of this model in the same way as in the previous sections."
   ]
  },
  {
   "cell_type": "code",
   "execution_count": 130,
   "id": "3930c753-ecb4-4104-b54f-1dadc092365e",
   "metadata": {},
   "outputs": [
    {
     "data": {
      "text/plain": [
       "array([0.0010282 , 0.00079372, 0.00087145, ..., 0.0001775 , 0.00524327,\n",
       "       0.000438  ])"
      ]
     },
     "execution_count": 130,
     "metadata": {},
     "output_type": "execute_result"
    }
   ],
   "source": [
    "# Access the model using \"names_steps\"\n",
    "final_rf = final_estimator.named_steps[\"rf\"]\n",
    "# Extracting the coefficient of each features\n",
    "rf_features = final_rf.feature_importances_\n",
    "rf_features"
   ]
  },
  {
   "cell_type": "code",
   "execution_count": 131,
   "id": "4329cb04-1475-4441-b4a1-c315a9edcf79",
   "metadata": {},
   "outputs": [],
   "source": [
    "# Sort the coefficients in descending order\n",
    "sorted_indices = np.argsort(rf_features)[::-1]  # Indices sorted values in descending order\n",
    "sorted_values = rf_features[sorted_indices] #sorted coefficients\n"
   ]
  },
  {
   "cell_type": "code",
   "execution_count": 132,
   "id": "24ad797a-0640-435e-9cc5-9e39ea42ae8f",
   "metadata": {},
   "outputs": [
    {
     "data": {
      "text/html": [
       "<div>\n",
       "<style scoped>\n",
       "    .dataframe tbody tr th:only-of-type {\n",
       "        vertical-align: middle;\n",
       "    }\n",
       "\n",
       "    .dataframe tbody tr th {\n",
       "        vertical-align: top;\n",
       "    }\n",
       "\n",
       "    .dataframe thead th {\n",
       "        text-align: right;\n",
       "    }\n",
       "</style>\n",
       "<table border=\"1\" class=\"dataframe\">\n",
       "  <thead>\n",
       "    <tr style=\"text-align: right;\">\n",
       "      <th></th>\n",
       "      <th>Index</th>\n",
       "      <th>Values</th>\n",
       "    </tr>\n",
       "  </thead>\n",
       "  <tbody>\n",
       "    <tr>\n",
       "      <th>0</th>\n",
       "      <td>466</td>\n",
       "      <td>0.017362</td>\n",
       "    </tr>\n",
       "    <tr>\n",
       "      <th>1</th>\n",
       "      <td>999</td>\n",
       "      <td>0.014497</td>\n",
       "    </tr>\n",
       "    <tr>\n",
       "      <th>2</th>\n",
       "      <td>783</td>\n",
       "      <td>0.013158</td>\n",
       "    </tr>\n",
       "    <tr>\n",
       "      <th>3</th>\n",
       "      <td>1239</td>\n",
       "      <td>0.010369</td>\n",
       "    </tr>\n",
       "    <tr>\n",
       "      <th>4</th>\n",
       "      <td>505</td>\n",
       "      <td>0.009856</td>\n",
       "    </tr>\n",
       "  </tbody>\n",
       "</table>\n",
       "</div>"
      ],
      "text/plain": [
       "   Index    Values\n",
       "0    466  0.017362\n",
       "1    999  0.014497\n",
       "2    783  0.013158\n",
       "3   1239  0.010369\n",
       "4    505  0.009856"
      ]
     },
     "execution_count": 132,
     "metadata": {},
     "output_type": "execute_result"
    }
   ],
   "source": [
    "# Create a DataFrame with the results\n",
    "sorted_coeff = pd.DataFrame({\n",
    "    \"Index\": sorted_indices,\n",
    "    \"Values\": sorted_values\n",
    "})\n",
    "sorted_coeff.head(5)"
   ]
  },
  {
   "cell_type": "markdown",
   "id": "a345a495-1a26-4161-ad10-0d8636b07769",
   "metadata": {},
   "source": [
    "*Comments:\" We can see that feature 466, which has the highest importance among the 1280 features, was selected during the EDA phase. However, none of these top 5 features appear in the features selected during the logistic regression phase.\" \n",
    "Overall, we can see that each model look to select its own features to classify data. Have 1 or 2 features in common among 1280 features can be considered as an interesting result. "
   ]
  },
  {
   "cell_type": "code",
   "execution_count": null,
   "id": "be623ac8-e003-400e-9b6b-42aebaa0a38d",
   "metadata": {},
   "outputs": [],
   "source": []
  }
 ],
 "metadata": {
  "kernelspec": {
   "display_name": "Python [conda env:adsml] *",
   "language": "python",
   "name": "conda-env-adsml-py"
  },
  "language_info": {
   "codemirror_mode": {
    "name": "ipython",
    "version": 3
   },
   "file_extension": ".py",
   "mimetype": "text/x-python",
   "name": "python",
   "nbconvert_exporter": "python",
   "pygments_lexer": "ipython3",
   "version": "3.9.19"
  }
 },
 "nbformat": 4,
 "nbformat_minor": 5
}
